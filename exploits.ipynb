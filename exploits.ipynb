{
 "cells": [
  {
   "cell_type": "code",
   "execution_count": 56,
   "metadata": {},
   "outputs": [],
   "source": [
    "# import the MongoClient module\n",
    "from pymongo import MongoClient\n",
    "\n",
    "# Create a client instance of MongoClient\n",
    "\n",
    "client = MongoClient('mongodb://localhost:27017/')\n",
    "\n",
    "# Get the database object\n",
    "# Here name of the database is \"sample\"\n",
    "\n",
    "db = client.cvedb\n",
    "\n",
    "# Get the collection object\n",
    "# Here name of the database is \"states\"\n",
    "\n",
    "collection  = db.via4\n",
    "\n",
    "# Make a query to list all the documents\n",
    "\n",
    "via4dict=collection.find()"
   ]
  },
  {
   "cell_type": "code",
   "execution_count": 58,
   "metadata": {},
   "outputs": [],
   "source": [
    "numCVEs_exploitdb=0\n",
    "for key in via4dict:\n",
    "    try:\n",
    "        key['refmap']['exploit-db']\n",
    "        numCVEs_exploitdb+=1\n",
    "    except:\n",
    "        continue\n"
   ]
  },
  {
   "cell_type": "code",
   "execution_count": 55,
   "metadata": {},
   "outputs": [
    {
     "name": "stdout",
     "output_type": "stream",
     "text": [
      "0\n"
     ]
    }
   ],
   "source": [
    "print(numCVEs_exploitdb)"
   ]
  }
 ],
 "metadata": {
  "kernelspec": {
   "display_name": "Python 3",
   "language": "python",
   "name": "python3"
  },
  "language_info": {
   "codemirror_mode": {
    "name": "ipython",
    "version": 3
   },
   "file_extension": ".py",
   "mimetype": "text/x-python",
   "name": "python",
   "nbconvert_exporter": "python",
   "pygments_lexer": "ipython3",
   "version": "3.6.8"
  }
 },
 "nbformat": 4,
 "nbformat_minor": 4
}
