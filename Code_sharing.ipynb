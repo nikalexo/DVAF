{
 "cells": [
  {
   "cell_type": "code",
   "execution_count": 1,
   "metadata": {},
   "outputs": [
    {
     "name": "stderr",
     "output_type": "stream",
     "text": [
      "DEBUG:matplotlib.pyplot:Loaded backend module://ipykernel.pylab.backend_inline version unknown.\n"
     ]
    }
   ],
   "source": [
    "#import paper_plots as carlosplt\n",
    "from pymongo import MongoClient\n",
    "import stat_tests as stats\n",
    "import matplotlib.pyplot as plt\n",
    "import numpy as np\n",
    "import pickle\n",
    "import vendors.debian.DLAmine as dla\n",
    "import json\n",
    "import csv\n",
    "from matplotlib.font_manager import FontProperties\n",
    "import seaborn as sns\n",
    "import laplace_tests as lptests\n",
    "import statsmodels.api as sm"
   ]
  },
  {
   "cell_type": "code",
   "execution_count": 2,
   "metadata": {},
   "outputs": [],
   "source": [
    "class Plotter:\n",
    "    def __init__(self, src2month, pkg_with_cvss, years):\n",
    "        self.src2month = src2month\n",
    "        self.pkg_with_cvss = pkg_with_cvss\n",
    "        self.years = years\n",
    "        self.src2month_temp = dict()\n",
    "        self.src2month_loc = dict()\n",
    "        self.l=self.m=self.h=self.udef=0\n",
    "\n",
    "    def plot_severity_percentage(self):\n",
    "        num_low = [0] * (self.years+1)\n",
    "        num_med = [0] * (self.years+1)\n",
    "        num_high = [0] * (self.years+1)\n",
    "        num_udef = [0] * (self.years+1)\n",
    "        total = [0] * (self.years+1)\n",
    "        for i in self.pkg_with_cvss:\n",
    "            for j in range(len(self.src2month[i])):\n",
    "                try:\n",
    "                    num_low[j//12] += self.pkg_with_cvss[i][j][0]\n",
    "                    num_med[j//12] += self.pkg_with_cvss[i][j][1]\n",
    "                    num_high[j//12] += self.pkg_with_cvss[i][j][2]\n",
    "                    num_udef[j//12] += self.pkg_with_cvss[i][j][3]\n",
    "                    total[j//12] += self.pkg_with_cvss[i][j][3] + self.pkg_with_cvss[i][j][2] + self.pkg_with_cvss[i][j][1] + self.pkg_with_cvss[i][j][0]\n",
    "                except IndexError:\n",
    "                    xx = j//12\n",
    "                    if xx==19:\n",
    "                        continue\n",
    "                    else:\n",
    "                        raise IndexError('List index out of bounds')\n",
    "        ## Generate percentage\n",
    "        for i in range(self.years + 1):\n",
    "            try:\n",
    "                num_low[i] = num_low[i]/total[i]\n",
    "                num_med[i] = num_med[i]/total[i]\n",
    "                num_high[i] = num_high[i]/total[i]\n",
    "                num_udef[i] = num_udef[i]/total[i]\n",
    "            except ZeroDivisionError:\n",
    "                num_low[i] = 0\n",
    "                num_med[i] = 0\n",
    "                num_high[i] = 0\n",
    "                num_udef[i] = 0\n",
    "\n",
    "        print(num_low)\n",
    "        print(num_high)\n",
    "\n",
    "\n",
    "        #carlosplt.pre_paper_plot()        \n",
    "\n",
    "        pal = ['#fee8c8', '#fdbb84', '#e34a33', 'grey']\n",
    "        x = range(2001, 2001 + self.years)\n",
    "\n",
    "        labels_cvss = ['low', 'medium', 'high', 'N/A']\n",
    "\n",
    "        h = plt.stackplot(x, [num_low[1:], num_med[1:], num_high[1:], num_udef[1:]], colors = pal, alpha=0.9, labels = labels_cvss)\n",
    "        plt.xticks(x)\n",
    "        plt.legend(loc='upper left', handles = h[::-1])\n",
    "        #carlosplt.post_paper_plot(True,True,True)\n",
    "        plt.show()\n",
    "\n",
    "    \n",
    "    ## Plot sum of vulnerabilities. Can filter out by severity using the booleans low, med, high, undefined\n",
    "    def plot_all_severity(self, l, m, h, udef):\n",
    "        #carlosplt.pre_paper_plot()\n",
    "        self.l = l\n",
    "        self.m = m\n",
    "        self.h = h\n",
    "        self.udef = udef\n",
    "        for i in self.pkg_with_cvss:\n",
    "            self.src2month_temp[i]=[]\n",
    "            for j in range(len(self.src2month[i])):\n",
    "                num_low = self.pkg_with_cvss[i][j][0]\n",
    "                num_med = self.pkg_with_cvss[i][j][1]\n",
    "                num_high = self.pkg_with_cvss[i][j][2]\n",
    "                num_udef = self.pkg_with_cvss[i][j][3]\n",
    "                tempp = 0\n",
    "                if l:\n",
    "                    tempp += num_low\n",
    "                if m:\n",
    "                    tempp += num_med\n",
    "                if h:\n",
    "                    tempp += num_high\n",
    "                if udef:\n",
    "                    tempp += num_udef\n",
    "                self.src2month_temp[i].append(tempp)\n",
    "\n",
    "        for i in self.src2month:\n",
    "            self.src2month_loc[i]=self.src2month_temp[i][:] # don't cut data for 2018\n",
    "\n",
    "        self.severityPlotter = Temp_Plotter(self)\n",
    "        self.severityPlotter.plot_total()\n",
    "\n",
    "        # Plot total number per year\n",
    "        self.pkgnumPlotter = NumPackages_Plotter(self.severityPlotter)\n",
    "        \n",
    "        # Plot number of affected packages per year\n",
    "        self.pkgnumPlotter.plot_num_affected()\n",
    "        \n",
    "        # Plot average number of vulnerabilities per affected package per year\n",
    "        self.pkgnumPlotter.plot_average_number()\n",
    "\n",
    "        # Plot regular and LTS for Wheezy\n",
    "        self.wheezy = WheezyPloter(self)\n",
    "        self.wheezy.plot_wheezy_lts()"
   ]
  },
  {
   "cell_type": "code",
   "execution_count": 3,
   "metadata": {},
   "outputs": [],
   "source": [
    "class Temp_Plotter:\n",
    "    def __init__(self, plotter):\n",
    "        self.src2month = plotter.src2month\n",
    "        self.pkg_with_cvss = plotter.pkg_with_cvss\n",
    "        self.years = plotter.years\n",
    "        self.src2month_loc = plotter.src2month_loc\n",
    "\n",
    "        self.src2sum = dict()\n",
    "        self.src2year = dict()\n",
    "        self.src2lastyears = dict()\n",
    "        self.src2dens = dict()\n",
    "        self.src2month_temp = dict()\n",
    "        self.year_sum = []\n",
    "        self.year_num = []\n",
    "\n",
    "    def plot_total(self):\n",
    "        self.year_sum = [0] * self.years\n",
    "        self.year_num = [0] * self.years\n",
    "        for pkg in self.src2month_loc:\n",
    "            for j in range(self.years):\n",
    "                temp =  sum(self.src2month_loc[pkg][12*(1+j):12*(2+j)])\n",
    "                if (temp>0):\n",
    "                    self.year_num[j] += 1\n",
    "                self.year_sum[j] += temp \n",
    "            ## For last 2 years\n",
    "            total = sum(self.src2month_loc[pkg][:])\n",
    "            last_years = sum(self.src2month_loc[pkg][-24:])\n",
    "            #print(pkg + '; ' + str(last_years))\n",
    "            if (total>1):\n",
    "                self.src2sum[pkg] = total\n",
    "                self.src2lastyears[pkg] = last_years\n",
    "        \n",
    "        #calc total\n",
    "        sum_total = 0\n",
    "        one_only=0\n",
    "        one_plus=0\n",
    "        for p in self.src2month:\n",
    "            sum_part = sum(self.src2month_loc[p][:])\n",
    "            sum_total += sum_part\n",
    "            if (sum_part == 1):\n",
    "                one_only += 1\n",
    "            elif (sum_part>1):\n",
    "                one_plus += 1\n",
    "\n",
    "        print('Total = ', sum_total)\n",
    "        print('one_only = ', one_only)\n",
    "        print('one_plus = ', one_plus)\n",
    "\n",
    "        values = sorted(self.src2sum.values(),reverse=True)\n",
    "        #print(values)\n",
    "        keys = list(sorted(self.src2sum, key=self.src2sum.__getitem__, reverse=True))\n",
    "\n",
    "        n = len(self.year_sum)\n",
    "        yearsx = []\n",
    "        for i in range(1,self.years+1):\n",
    "            if i%2==1:\n",
    "                yearsx.append('\\''+str(i).zfill(2))\n",
    "            else:\n",
    "                yearsx.append('')\n",
    "        x = range(self.years)\n",
    "\n",
    "        width = 1/2\n",
    "        plt.bar(x, self.year_sum, width, color='darkblue', edgecolor='black')\n",
    "        #plt.bar(x, average_per_year, width)\n",
    "        plt.xticks(np.arange(0,n),yearsx)\n",
    "        plt.ylabel('Total vulnerabilities')\n",
    "        plt.xlabel('Year')\n",
    "        #carlosplt.post_paper_plot(True,True,True)\n",
    "        \n",
    "        sum_all = sum(values)\n",
    "        print(\"Total: \", sum_all)\n",
    "\n",
    "        ## Linear regression model\n",
    "        X = sm.add_constant(x)\n",
    "        y = self.year_sum\n",
    "        model = sm.OLS(y,X).fit()\n",
    "        predictions = model.predict(X)\n",
    "        plt.plot(predictions)\n",
    "        plt.show()\n",
    "        print(model.summary())\n",
    "        #print(model.summary().as_latex())"
   ]
  },
  {
   "cell_type": "code",
   "execution_count": 4,
   "metadata": {},
   "outputs": [],
   "source": [
    "class NumPackages_Plotter:\n",
    "    def __init__(self, plotter):\n",
    "        self.plotter = plotter\n",
    "        self.yearsx = []\n",
    "\n",
    "    def plot_num_affected(self):\n",
    "        ## Number of affected packages\n",
    "        n = len(self.plotter.year_sum)\n",
    "        for i in range(1,self.plotter.years+1):\n",
    "            if i%2==1:\n",
    "                self.yearsx.append('\\''+str(i).zfill(2))\n",
    "            else:\n",
    "                self.yearsx.append('')\n",
    "        x = range(self.plotter.years)\n",
    "        width = 1/2\n",
    "        plt.bar(x, self.plotter.year_num, width, color='darkblue', edgecolor='black')\n",
    "        plt.xticks(np.arange(0,n),self.yearsx)\n",
    "        plt.ylabel('Number of affected packages')\n",
    "        plt.xlabel('Year')\n",
    "        #carlosplt.post_paper_plot(True,True,True)\n",
    "        plt.show()\n",
    "\n",
    "    def plot_average_number(self):\n",
    "        average_per_year = [0] * self.plotter.years\n",
    "        for j in range(self.plotter.years):\n",
    "            average_per_year[j] = self.plotter.year_sum[j]/float(self.plotter.year_num[j])\n",
    "        \n",
    "        x_values = list(range(1,self.plotter.years+1))\n",
    "        slope = np.polyfit(x_values,average_per_year,1)\n",
    "        \n",
    "        print('Slope: ' + str(slope))\n",
    "        \n",
    "        n = len(self.plotter.year_sum)\n",
    "        x = range(self.plotter.years)\n",
    "        width = 1/2\n",
    "        #plt.bar(x, year_sum, width)\n",
    "        plt.bar(x, average_per_year, width, color='darkblue', edgecolor='black')\n",
    "        plt.xticks(np.arange(0,n),self.yearsx)\n",
    "        plt.ylabel('Average vulnerabilities per package')\n",
    "        plt.xlabel('Year')\n",
    "        #carlosplt.post_paper_plot(True,True,True)\n",
    "        ## Linear regression\n",
    "        X = sm.add_constant(x)\n",
    "        y = average_per_year\n",
    "        model = sm.OLS(y,X).fit()\n",
    "        predictions = model.predict(X)\n",
    "        plt.plot(predictions)\n",
    "        plt.show()\n",
    "        print(model.summary())\n",
    "        #print(model.summary().as_latex())"
   ]
  },
  {
   "cell_type": "code",
   "execution_count": 5,
   "metadata": {},
   "outputs": [],
   "source": [
    "class WheezyPloter:\n",
    "    def __init__(self, plotter):\n",
    "        self.plotter = plotter\n",
    "        self.yearsx = []\n",
    "        self.l = plotter.l\n",
    "        self.m = plotter.m\n",
    "        self.h = plotter.h\n",
    "        self.udef = plotter.udef\n",
    "\n",
    "\n",
    "    def plot_wheezy_lts(self):\n",
    "        quarter_num = self.plotter.years*4\n",
    "        # Get LTS and plot\n",
    "        try:\n",
    "            with open(\"DLA_sum.txt\",\"rb\") as fp:\n",
    "                ltslist = pickle.load(fp)\n",
    "            with open(\"src2month_DLA.txt\",\"rb\") as fp:\n",
    "                src2monthDLAs = pickle.load(fp)\n",
    "            with open(\"DLA_src2month.json\",\"r\") as fp:\n",
    "                src2monthDLA = json.load(fp)\n",
    "            with open(\"DLA_withcvss.json\",\"r\") as fp:\n",
    "                self.src2monthDLA_cvss = json.load(fp)\n",
    "                # Fix this so it can compute when required\n",
    "                #dla.permonthDLA(src2monthDLAs)\n",
    "            with open(\"1000.csv\",\"r\") as csvfile:\n",
    "                spamreader = csv.reader(csvfile, delimiter=' ', quotechar='|')\n",
    "\n",
    "        except IOError:\n",
    "            ltslist = dla.getDLAs()\n",
    "            with open(\"src2month_DLA.txt\",\"rb\") as fp:\n",
    "                src2monthDLAs = pickle.load(fp)\n",
    "            dla.permonthDLA(src2monthDLAs)\n",
    "            return self.plot_wheezy_lts()\n",
    "        \n",
    "        ## Plot for wheezy\n",
    "        quarter_sum = [0] * quarter_num\n",
    "\n",
    "        DLA_temp=dict()\n",
    "        \n",
    "        ## Fix src2monthDLA_cvss\n",
    "        for i in self.src2monthDLA_cvss:\n",
    "            temp_list = []\n",
    "            for j in self.src2monthDLA_cvss[i]:\n",
    "                temp_list += j\n",
    "            self.src2monthDLA_cvss[i] = temp_list\n",
    "\n",
    "        ## Fix ltslist according to severity\n",
    "        for i in self.src2monthDLA_cvss:\n",
    "            DLA_temp[i]=[]\n",
    "            for j in range(len(self.src2monthDLA_cvss[i])):\n",
    "                num_low = self.src2monthDLA_cvss[i][j][0]\n",
    "                num_med = self.src2monthDLA_cvss[i][j][1]\n",
    "                num_high = self.src2monthDLA_cvss[i][j][2]\n",
    "                num_udef = self.src2monthDLA_cvss[i][j][3]\n",
    "                tempp = 0\n",
    "                if self.l:\n",
    "                    tempp += num_low\n",
    "                if self.m:\n",
    "                    tempp += num_med\n",
    "                if self.h:\n",
    "                    tempp += num_high\n",
    "                if self.udef:\n",
    "                    tempp += num_udef\n",
    "                DLA_temp[i].append(tempp)\n",
    "\n",
    "        \n",
    "        ltslist = []\n",
    "\n",
    "        for m in range((self.plotter.years+1)*12):\n",
    "            s = 0\n",
    "            #print(m)\n",
    "            for i in DLA_temp:\n",
    "                s += DLA_temp[i][m]\n",
    "            ltslist.append(s)\n",
    "\n",
    "\n",
    "        totalLTS = ltslist\n",
    "        plt.bar([i for i in range(len(ltslist))],ltslist)\n",
    "        plt.show()\n",
    "\n",
    "        quartersx = []\n",
    "        for i in range(1,self.plotter.years+1):\n",
    "            for j in range(1,5):\n",
    "                if j==1:\n",
    "                    quartersx.append('Q' + str(j)+'\\''+str(i).zfill(2))\n",
    "                else:\n",
    "                    quartersx.append(' ')\n",
    "    \n",
    "        for pkg in self.plotter.src2month_loc:\n",
    "            for j in range(quarter_num):\n",
    "                temp =  sum(self.plotter.src2month_loc[pkg][12+(3*j):12+3*(j+1)])\n",
    "                quarter_sum[j] += temp \n",
    "\n",
    "        LTS_quarter = []\n",
    "    \n",
    "        for j in range(quarter_num):\n",
    "            temp = sum(totalLTS[12+(3*j):12+3*(j+1)])\n",
    "            LTS_quarter.append(temp)\n",
    "\n",
    "        ## Print all LTS\n",
    "        cut = 12*4+1\n",
    "        n = len(quarter_sum)\n",
    "        x = range(quarter_num)\n",
    "        width = 1/2\n",
    "\n",
    "        plt.bar(x, LTS_quarter, width, color='brown', label='regular support', edgecolor='black')\n",
    "    \n",
    "        plt.xticks(np.arange(0,n),quartersx, rotation=\"vertical\")\n",
    "        plt.ylabel('Vulnerabilities per quarter of Debian LTS')\n",
    "        plt.xlabel('Quarter')\n",
    "        #carlosplt.post_paper_plot(True,True,True)\n",
    "        plt.show()\n",
    "    \n",
    "        ## Filter only wheezy:\n",
    "        quarter_sum_regular = [0] * (12*4+1) + quarter_sum[12*4+1:12*4+9] + [0] * 12\n",
    "        quarter_sum_errors = [0] * (12*4 + 9) + quarter_sum[12*4+9:12*4+9+5] + [0] * 7\n",
    "        LTS_quarter = [0] * (15*4+2) + LTS_quarter[15*4+2:-3]\n",
    "        \n",
    "        whole_w = quarter_sum_regular[:-12] + quarter_sum_errors[12*4+9:-7] + LTS_quarter[15*4+2:]\n",
    "    \n",
    "        #print(quarter_sum_errors)\n",
    "        cut = 12*4+1\n",
    "        n = len(quarter_sum) - cut\n",
    "        x = range(quarter_num-cut-3)\n",
    "        width = 1/2\n",
    "        \n",
    "        #print(len(LTS_quarter))\n",
    "        print(len(x))\n",
    "        print(len(quarter_sum_regular[cut:]))\n",
    "        print(len(quarter_sum_errors[cut:]))\n",
    "        bar1 = plt.bar(x, quarter_sum_regular[cut:], width, color='darkblue', label='regular', edgecolor='black')\n",
    "        bar12 = plt.bar(x, quarter_sum_errors[cut:], width, color='darkorange', label='regular*', edgecolor='black')\n",
    "        bar2 = plt.bar(x, LTS_quarter[cut:], width, color='darkred', label ='long-term', edgecolor='black')\n",
    "        plt.legend(handles=[bar1, bar12, bar2])\n",
    "    \n",
    "        plt.xticks(np.arange(0,n),quartersx[cut:], rotation=\"vertical\")\n",
    "        plt.ylabel('Vulnerabilities per quarter')\n",
    "        plt.xlabel('Quarter')\n",
    "        #carlosplt.post_paper_plot(True,True,True)\n",
    "        ## Linear Regression\n",
    "        print(len(x))\n",
    "        print(len(whole_w[cut:]))\n",
    "        X = sm.add_constant(x)\n",
    "        y = whole_w[cut:]\n",
    "        model = sm.OLS(y,X).fit()\n",
    "        predictions = model.predict(X)\n",
    "        plt.plot(predictions)\n",
    "        plt.show()\n",
    "        print(model.summary())\n",
    "        #print(model.summary().as_latex())"
   ]
  },
  {
   "cell_type": "code",
   "execution_count": 6,
   "metadata": {},
   "outputs": [],
   "source": [
    "def plot_all(src2month, pkg_with_cvss):\n",
    "    years = 18\n",
    "    # 2001-2000+years\n",
    "\n",
    "    myplotter = Plotter(src2month, pkg_with_cvss, years)\n",
    "    \n",
    "    # consider severity (low, medium, high, undefined)\n",
    "    # Undefined is usual for newly added packages\n",
    "    myplotter.plot_all_severity(True,True,True,True)\n",
    "    myplotter.plot_severity_percentage()"
   ]
  },
  {
   "cell_type": "code",
   "execution_count": 7,
   "metadata": {},
   "outputs": [],
   "source": [
    "with open('./vendors/debian/cache/src2dsa') as fp:\n",
    "    src2dsa=json.load(fp)\n",
    "with open('./vendors/debian/cache/dsa2cve') as fp:\n",
    "    dsa2cve=json.load(fp)\n",
    "with open('./vendors/debian/cache/src2month') as fp:\n",
    "    src2month=json.load(fp)\n",
    "with open('./vendors/debian/cache/pkg_with_cvss') as fp:\n",
    "    pkg_with_cvss=json.load(fp)"
   ]
  },
  {
   "cell_type": "code",
   "execution_count": 10,
   "metadata": {},
   "outputs": [
    {
     "name": "stdout",
     "output_type": "stream",
     "text": [
      "240\n"
     ]
    }
   ],
   "source": [
    "print(len(src2month['linux']))"
   ]
  },
  {
   "cell_type": "code",
   "execution_count": null,
   "metadata": {},
   "outputs": [],
   "source": [
    "single_src2month=dict()\n",
    "single_pkg_with_cvss=dict()"
   ]
  },
  {
   "cell_type": "code",
   "execution_count": 8,
   "metadata": {},
   "outputs": [
    {
     "name": "stderr",
     "output_type": "stream",
     "text": [
      "DEBUG:matplotlib.axes._base:update_title_pos\n",
      "DEBUG:matplotlib.font_manager:findfont: Matching :family=sans-serif:style=normal:variant=normal:weight=normal:stretch=normal:size=10.0 to DejaVu Sans ('/usr/local/lib/python3.6/dist-packages/matplotlib/mpl-data/fonts/ttf/DejaVuSans.ttf') with score of 0.050000.\n",
      "DEBUG:matplotlib.axes._base:update_title_pos\n",
      "DEBUG:matplotlib.axes._base:update_title_pos\n",
      "DEBUG:matplotlib.axes._base:update_title_pos\n"
     ]
    },
    {
     "name": "stdout",
     "output_type": "stream",
     "text": [
      "Total =  12786\n",
      "one_only =  604\n",
      "one_plus =  700\n",
      "Total:  12182\n"
     ]
    },
    {
     "data": {
      "image/png": "[encoded data removed]",
      "text/plain": [
       "<Figure size 432x288 with 1 Axes>"
      ]
     },
     "metadata": {
      "needs_background": "light"
     },
     "output_type": "display_data"
    },
    {
     "name": "stderr",
     "output_type": "stream",
     "text": [
      "/usr/local/lib/python3.6/dist-packages/scipy/stats/stats.py:1450: UserWarning: kurtosistest only valid for n>=20 ... continuing anyway, n=18\n",
      "  \"anyway, n=%i\" % int(n))\n",
      "DEBUG:matplotlib.axes._base:update_title_pos\n",
      "DEBUG:matplotlib.axes._base:update_title_pos\n",
      "DEBUG:matplotlib.axes._base:update_title_pos\n",
      "DEBUG:matplotlib.axes._base:update_title_pos\n"
     ]
    },
    {
     "name": "stdout",
     "output_type": "stream",
     "text": [
      "                            OLS Regression Results                            \n",
      "==============================================================================\n",
      "Dep. Variable:                      y   R-squared:                       0.772\n",
      "Model:                            OLS   Adj. R-squared:                  0.758\n",
      "Method:                 Least Squares   F-statistic:                     54.29\n",
      "Date:                Fri, 25 Oct 2019   Prob (F-statistic):           1.59e-06\n",
      "Time:                        09:03:56   Log-Likelihood:                -117.53\n",
      "No. Observations:                  18   AIC:                             239.1\n",
      "Df Residuals:                      16   BIC:                             240.8\n",
      "Df Model:                           1                                         \n",
      "Covariance Type:            nonrobust                                         \n",
      "==============================================================================\n",
      "                 coef    std err          t      P>|t|      [0.025      0.975]\n",
      "------------------------------------------------------------------------------\n",
      "const        177.1345     79.542      2.227      0.041       8.513     345.756\n",
      "x1            58.8535      7.988      7.368      0.000      41.921      75.786\n",
      "==============================================================================\n",
      "Omnibus:                        3.174   Durbin-Watson:                   1.329\n",
      "Prob(Omnibus):                  0.205   Jarque-Bera (JB):                1.711\n",
      "Skew:                           0.746   Prob(JB):                        0.425\n",
      "Kurtosis:                       3.233   Cond. No.                         19.3\n",
      "==============================================================================\n",
      "\n",
      "Warnings:\n",
      "[1] Standard Errors assume that the covariance matrix of the errors is correctly specified.\n"
     ]
    },
    {
     "data": {
      "image/png": "[encoded data removed]",
      "text/plain": [
       "<Figure size 432x288 with 1 Axes>"
      ]
     },
     "metadata": {
      "needs_background": "light"
     },
     "output_type": "display_data"
    },
    {
     "name": "stdout",
     "output_type": "stream",
     "text": [
      "Slope: [0.32739844 1.14054064]\n"
     ]
    },
    {
     "name": "stderr",
     "output_type": "stream",
     "text": [
      "DEBUG:matplotlib.axes._base:update_title_pos\n",
      "DEBUG:matplotlib.axes._base:update_title_pos\n",
      "DEBUG:matplotlib.axes._base:update_title_pos\n",
      "DEBUG:matplotlib.axes._base:update_title_pos\n"
     ]
    },
    {
     "data": {
      "image/png": "[encoded data removed]",
      "text/plain": [
       "<Figure size 432x288 with 1 Axes>"
      ]
     },
     "metadata": {
      "needs_background": "light"
     },
     "output_type": "display_data"
    },
    {
     "name": "stdout",
     "output_type": "stream",
     "text": [
      "                            OLS Regression Results                            \n",
      "==============================================================================\n",
      "Dep. Variable:                      y   R-squared:                       0.907\n",
      "Model:                            OLS   Adj. R-squared:                  0.902\n",
      "Method:                 Least Squares   F-statistic:                     156.9\n",
      "Date:                Fri, 25 Oct 2019   Prob (F-statistic):           1.10e-09\n",
      "Time:                        09:03:56   Log-Likelihood:                -14.532\n",
      "No. Observations:                  18   AIC:                             33.06\n",
      "Df Residuals:                      16   BIC:                             34.84\n",
      "Df Model:                           1                                         \n",
      "Covariance Type:            nonrobust                                         \n",
      "==============================================================================\n",
      "                 coef    std err          t      P>|t|      [0.025      0.975]\n",
      "------------------------------------------------------------------------------\n",
      "const          1.4679      0.260      5.639      0.000       0.916       2.020\n",
      "x1             0.3274      0.026     12.525      0.000       0.272       0.383\n",
      "==============================================================================\n",
      "Omnibus:                        1.544   Durbin-Watson:                   1.898\n",
      "Prob(Omnibus):                  0.462   Jarque-Bera (JB):                1.083\n",
      "Skew:                           0.580   Prob(JB):                        0.582\n",
      "Kurtosis:                       2.688   Cond. No.                         19.3\n",
      "==============================================================================\n",
      "\n",
      "Warnings:\n",
      "[1] Standard Errors assume that the covariance matrix of the errors is correctly specified.\n"
     ]
    },
    {
     "name": "stderr",
     "output_type": "stream",
     "text": [
      "DEBUG:matplotlib.axes._base:update_title_pos\n",
      "DEBUG:matplotlib.axes._base:update_title_pos\n",
      "DEBUG:matplotlib.axes._base:update_title_pos\n",
      "DEBUG:matplotlib.axes._base:update_title_pos\n"
     ]
    },
    {
     "data": {
      "image/png": "[encoded data removed]",
      "text/plain": [
       "<Figure size 432x288 with 1 Axes>"
      ]
     },
     "metadata": {
      "needs_background": "light"
     },
     "output_type": "display_data"
    },
    {
     "name": "stderr",
     "output_type": "stream",
     "text": [
      "DEBUG:matplotlib.axes._base:update_title_pos\n",
      "DEBUG:matplotlib.axes._base:update_title_pos\n",
      "DEBUG:matplotlib.axes._base:update_title_pos\n",
      "DEBUG:matplotlib.axes._base:update_title_pos\n"
     ]
    },
    {
     "data": {
      "image/png": "[encoded data removed]",
      "text/plain": [
       "<Figure size 432x288 with 1 Axes>"
      ]
     },
     "metadata": {
      "needs_background": "light"
     },
     "output_type": "display_data"
    },
    {
     "name": "stderr",
     "output_type": "stream",
     "text": [
      "DEBUG:matplotlib.axes._base:update_title_pos\n",
      "DEBUG:matplotlib.axes._base:update_title_pos\n"
     ]
    },
    {
     "name": "stdout",
     "output_type": "stream",
     "text": [
      "20\n",
      "20\n",
      "20\n",
      "20\n",
      "20\n"
     ]
    },
    {
     "name": "stderr",
     "output_type": "stream",
     "text": [
      "DEBUG:matplotlib.axes._base:update_title_pos\n",
      "DEBUG:matplotlib.axes._base:update_title_pos\n"
     ]
    },
    {
     "data": {
      "image/png": "[encoded data removed]",
      "text/plain": [
       "<Figure size 432x288 with 1 Axes>"
      ]
     },
     "metadata": {
      "needs_background": "light"
     },
     "output_type": "display_data"
    },
    {
     "name": "stdout",
     "output_type": "stream",
     "text": [
      "                            OLS Regression Results                            \n",
      "==============================================================================\n",
      "Dep. Variable:                      y   R-squared:                       0.521\n",
      "Model:                            OLS   Adj. R-squared:                  0.494\n",
      "Method:                 Least Squares   F-statistic:                     19.59\n",
      "Date:                Fri, 25 Oct 2019   Prob (F-statistic):           0.000326\n",
      "Time:                        09:03:58   Log-Likelihood:                -111.10\n",
      "No. Observations:                  20   AIC:                             226.2\n",
      "Df Residuals:                      18   BIC:                             228.2\n",
      "Df Model:                           1                                         \n",
      "Covariance Type:            nonrobust                                         \n",
      "==============================================================================\n",
      "                 coef    std err          t      P>|t|      [0.025      0.975]\n",
      "------------------------------------------------------------------------------\n",
      "const        174.5571     28.413      6.144      0.000     114.863     234.251\n",
      "x1            11.3150      2.557      4.426      0.000       5.944      16.687\n",
      "==============================================================================\n",
      "Omnibus:                        5.253   Durbin-Watson:                   1.997\n",
      "Prob(Omnibus):                  0.072   Jarque-Bera (JB):                2.929\n",
      "Skew:                           0.759   Prob(JB):                        0.231\n",
      "Kurtosis:                       4.099   Cond. No.                         21.5\n",
      "==============================================================================\n",
      "\n",
      "Warnings:\n",
      "[1] Standard Errors assume that the covariance matrix of the errors is correctly specified.\n"
     ]
    },
    {
     "name": "stderr",
     "output_type": "stream",
     "text": [
      "DEBUG:matplotlib.axes._base:update_title_pos\n",
      "DEBUG:matplotlib.axes._base:update_title_pos\n",
      "DEBUG:matplotlib.axes._base:update_title_pos\n",
      "DEBUG:matplotlib.axes._base:update_title_pos\n"
     ]
    },
    {
     "name": "stdout",
     "output_type": "stream",
     "text": [
      "[0, 0.21238938053097345, 0.06635071090047394, 0.08116883116883117, 0.13249211356466878, 0.1509433962264151, 0.09390444810543658, 0.054982817869415807, 0.03816793893129771, 0.03709428129829984, 0.10657596371882086, 0.08662613981762918, 0.09586776859504133, 0.09838274932614555, 0.08763505402160865, 0.07384615384615385, 0.06169871794871795, 0.05431937172774869, 0.05705996131528046]\n",
      "[0, 0.4690265486725664, 0.5023696682464455, 0.4837662337662338, 0.45425867507886436, 0.39477503628447025, 0.3673805601317957, 0.34536082474226804, 0.4534351145038168, 0.43431221020092736, 0.3356009070294785, 0.378419452887538, 0.32892561983471075, 0.3086253369272237, 0.31932773109243695, 0.3415384615384615, 0.2219551282051282, 0.29450261780104714, 0.18375241779497098]\n"
     ]
    },
    {
     "data": {
      "image/png": "[encoded data removed]",
      "text/plain": [
       "<Figure size 432x288 with 1 Axes>"
      ]
     },
     "metadata": {
      "needs_background": "light"
     },
     "output_type": "display_data"
    }
   ],
   "source": [
    "plot_all(src2month, pkg_with_cvss)"
   ]
  }
 ],
 "metadata": {
  "kernelspec": {
   "display_name": "Python 3",
   "language": "python",
   "name": "python3"
  },
  "language_info": {
   "codemirror_mode": {
    "name": "ipython",
    "version": 3
   },
   "file_extension": ".py",
   "mimetype": "text/x-python",
   "name": "python",
   "nbconvert_exporter": "python",
   "pygments_lexer": "ipython3",
   "version": "3.6.8"
  }
 },
 "nbformat": 4,
 "nbformat_minor": 4
}
