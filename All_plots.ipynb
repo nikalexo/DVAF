{
 "cells": [
  {
   "cell_type": "code",
   "execution_count": 1,
   "metadata": {},
   "outputs": [],
   "source": [
    "#import paper_plots as carlosplt\n",
    "from pymongo import MongoClient\n",
    "import stat_tests as stats\n",
    "import matplotlib.pyplot as plt\n",
    "import numpy as np\n",
    "import pickle\n",
    "import json\n",
    "import csv\n",
    "from matplotlib.font_manager import FontProperties\n",
    "import seaborn as sns\n",
    "import laplace_tests as lptests\n",
    "import statsmodels.api as sm\n",
    "import datetime"
   ]
  },
  {
   "cell_type": "code",
   "execution_count": 2,
   "metadata": {},
   "outputs": [],
   "source": [
    "with open('./vendors/debian/cache/src2dsa') as fp:\n",
    "    src2dsa=json.load(fp)\n",
    "with open('./vendors/debian/cache/dsa2cve') as fp:\n",
    "    dsa2cve=json.load(fp)\n",
    "with open('./vendors/debian/cache/src2month') as fp:\n",
    "    src2month=json.load(fp)\n",
    "with open('./vendors/debian/cache/pkg_with_cvss') as fp:\n",
    "    pkg_with_cvss=json.load(fp)\n",
    "with open('./vendors/debian/cache/dsainfo') as fp:\n",
    "    dsainfo=json.load(fp)\n",
    "with open('./vendors/debian/cache/src2sloccount') as fp:\n",
    "    src2sloccount=json.load(fp)\n",
    "\n",
    "with open('./vendors/debian/src2month_DLA.json') as fp:\n",
    "    src2dla=json.load(fp)\n",
    "\n",
    "client = MongoClient('mongodb://localhost:27017/')\n",
    "db = client.cvedb\n",
    "\n",
    "# Get the collection object\n",
    "# Here name of the database is \"states\"\n",
    "\n",
    "collection  = db.cves\n",
    "\n",
    "# Make a query to list all the documents\n",
    "\n",
    "cvedicttemp=collection.find()"
   ]
  },
  {
   "cell_type": "code",
   "execution_count": 3,
   "metadata": {},
   "outputs": [],
   "source": [
    "cvedict=dict()\n",
    "for key in cvedicttemp:\n",
    "    cvedict[key['id']]=key"
   ]
  },
  {
   "cell_type": "code",
   "execution_count": 4,
   "metadata": {},
   "outputs": [],
   "source": [
    "single_src2month=dict()\n",
    "single_pkg_with_cvss=dict()"
   ]
  },
  {
   "cell_type": "code",
   "execution_count": 5,
   "metadata": {},
   "outputs": [],
   "source": [
    "# Number counted once\n",
    "cve_once=dict()\n",
    "repeat_count=dict()\n",
    "for dsa in dsa2cve:\n",
    "    for cve in dsa2cve[dsa]:\n",
    "        if cve not in cve_once:\n",
    "            date1=dsainfo[dsa][1]\n",
    "            date1 = datetime.datetime.strptime(date1, '%Y-%m-%d %H:%M:%S')\n",
    "            try:\n",
    "                date2=cvedict[cve]['Published']\n",
    "                if date1<date2:\n",
    "                    date=date1\n",
    "                else:\n",
    "                    date=date2\n",
    "                cve_once[cve]=date\n",
    "                repeat_count[cve]=[date1]\n",
    "                continue\n",
    "            except KeyError:\n",
    "                cve_once[cve]=date1\n",
    "                repeat_count[cve]=[date1]\n",
    "                continue\n",
    "        if cve in cve_once:\n",
    "            date1=dsainfo[dsa][1]\n",
    "            date1 = datetime.datetime.strptime(date1, '%Y-%m-%d %H:%M:%S')\n",
    "            date2=cve_once[cve]\n",
    "            if date1<date2:\n",
    "                date=date1\n",
    "            else:\n",
    "                date=date2    \n",
    "            cve_once[cve]=date\n",
    "            repeat_count[cve].append(date1)"
   ]
  },
  {
   "cell_type": "code",
   "execution_count": 6,
   "metadata": {},
   "outputs": [],
   "source": [
    "cve2src=dict()\n",
    "for cve in cve_once:\n",
    "    cve2src[cve]=[]\n",
    "    for src in src2dsa:\n",
    "        for dsa in src2dsa[src]:\n",
    "            if cve in dsa2cve[str(dsa)]:\n",
    "                if src not in cve2src[cve]:\n",
    "                    cve2src[cve].append(src)"
   ]
  },
  {
   "cell_type": "code",
   "execution_count": 7,
   "metadata": {},
   "outputs": [
    {
     "name": "stdout",
     "output_type": "stream",
     "text": [
      "[0, 0, 0, 0, 0, 0, 0, 0, 0, 0, 0, 0, 22, 4, 13, 17, 5, 9, 6, 5, 4, 7, 5, 7, 7, 12, 14, 3, 1, 14, 9, 29, 17, 23, 27, 32, 31, 8, 42, 21, 16, 36, 26, 22, 29, 7, 9, 13, 29, 26, 21, 27, 12, 20, 14, 36, 21, 25, 20, 45, 59, 30, 19, 31, 40, 21, 54, 62, 59, 66, 56, 73, 26, 36, 35, 81, 45, 42, 46, 51, 40, 19, 26, 38, 19, 22, 50, 43, 40, 59, 47, 25, 45, 38, 45, 35, 38, 50, 46, 36, 31, 28, 41, 30, 46, 32, 36, 43, 37, 34, 67, 66, 35, 50, 46, 35, 53, 47, 41, 45, 34, 49, 17, 27, 21, 44, 39, 57, 35, 31, 41, 37, 60, 47, 81, 40, 65, 38, 41, 47, 36, 47, 27, 29, 69, 48, 45, 35, 41, 59, 42, 49, 25, 40, 37, 19, 27, 41, 60, 47, 77, 88, 61, 47, 45, 65, 67, 66, 54, 65, 69, 90, 44, 38, 66, 57, 40, 95, 60, 80, 70, 68, 65, 93, 73, 55, 91, 69, 60, 86, 69, 73, 115, 99, 115, 91, 99, 86, 111, 114, 104, 42, 64, 106, 172, 73, 106, 113, 68, 86, 146, 141, 198, 106, 95, 106, 117, 67, 93, 161, 56, 79, 95, 42, 59, 54, 51, 82]\n",
      "10716\n"
     ]
    }
   ],
   "source": [
    "# Here we start the plotting        \n",
    "years=18\n",
    "\n",
    "num_low = [0] * (years+1) * 12\n",
    "num_med = [0] * (years+1) * 12\n",
    "num_high = [0] * (years+1) * 12\n",
    "num_udef = [0] * (years+1) * 12\n",
    "total = [0] * (years+1) * 12\n",
    "for i in cve_once:\n",
    "    year = cve_once[i].year\n",
    "    month = cve_once[i].month\n",
    "    index = (year-2000)*12+month-1\n",
    "    if year-2000 > years:\n",
    "        continue\n",
    "    total[index] += 1\n",
    "    try:\n",
    "        cvss=cvedict[i]['cvss']\n",
    "        if cvss<0.0 or cvss>10.0:\n",
    "            print('Unexpected')\n",
    "            num_udef[index] += 1\n",
    "        if cvss<4.0:        \n",
    "            num_low[index] += 1\n",
    "        elif cvss<7.0:\n",
    "            num_med[index] += 1\n",
    "        else:    \n",
    "            num_high[index] += 1\n",
    "    except:\n",
    "        num_udef[index] += 1\n",
    "print(total)\n",
    "print(sum(total))"
   ]
  },
  {
   "cell_type": "code",
   "execution_count": 8,
   "metadata": {},
   "outputs": [
    {
     "name": "stdout",
     "output_type": "stream",
     "text": [
      "[0, 0.07692307692307693, 0.1276595744680851, 0.09615384615384616, 0.11148648648648649, 0.03333333333333333, 0.07422680412371134, 0.014957264957264958, 0.002188183807439825, 0.012589928057553957, 0.037037037037037035, 0.012544802867383513, 0.003929273084479371, 0.004341534008683068, 0.021108179419525065, 0.0389908256880734, 0.005235602094240838, 0.002127659574468085, 0.0041841004184100415]\n"
     ]
    },
    {
     "data": {
      "image/png": "[encoded data removed]",
      "text/plain": [
       "<Figure size 432x288 with 1 Axes>"
      ]
     },
     "metadata": {
      "needs_background": "light"
     },
     "output_type": "display_data"
    }
   ],
   "source": [
    "# Plot severity percentage\n",
    "pal = ['#fee8c8', '#fdbb84', '#e34a33', 'grey']\n",
    "x = range(2001, 2001 + years)\n",
    "\n",
    "per_low = [0] * (years+1)\n",
    "per_med = [0] * (years+1)\n",
    "per_high = [0] * (years+1)\n",
    "per_udef = [0] * (years+1)\n",
    "\n",
    "labels_cvss = ['low', 'medium', 'high', 'N/A']\n",
    "        \n",
    "for i in range(years + 1):\n",
    "    try:\n",
    "        per_low[i] = sum(num_low[i*12:i*12+12])/sum(total[i*12:i*12+12])\n",
    "        per_med[i] = sum(num_med[i*12:i*12+12])/sum(total[i*12:i*12+12])\n",
    "        per_high[i] = sum(num_high[i*12:i*12+12])/sum(total[i*12:i*12+12])\n",
    "        per_udef[i] = sum(num_udef[i*12:i*12+12])/sum(total[i*12:i*12+12])\n",
    "    except ZeroDivisionError:\n",
    "        per_low[i] = 0\n",
    "        per_med[i] = 0\n",
    "        per_high[i] = 0\n",
    "        per_udef[i] = 0\n",
    "\n",
    "h = plt.stackplot(x, [per_low[1:], per_med[1:], per_high[1:], per_udef[1:]], colors = pal, alpha=0.9, labels = labels_cvss)\n",
    "plt.xticks(x)\n",
    "plt.legend(loc='upper left', handles = h[::-1])\n",
    "#carlosplt.post_paper_plot(True,True,True)\n",
    "print(per_udef)\n",
    "plt.show()"
   ]
  },
  {
   "cell_type": "code",
   "execution_count": 9,
   "metadata": {},
   "outputs": [],
   "source": [
    "# Next we filter the vulnerabilities by severity (for use later)\n",
    "#carlosplt.pre_paper_plot()\n",
    "l=0\n",
    "m=0\n",
    "h=1\n",
    "udef=0\n",
    "\n",
    "filtered=[0]*len(total)\n",
    "        \n",
    "for i in range(len(total)):\n",
    "    tempp=0\n",
    "    if l:\n",
    "        tempp += num_low[i]\n",
    "    if m:\n",
    "        tempp += num_med[i]\n",
    "    if h:\n",
    "        tempp += num_high[i]\n",
    "    if udef:\n",
    "        tempp += num_udef[i]\n",
    "    filtered[i]+=tempp  "
   ]
  },
  {
   "cell_type": "code",
   "execution_count": 10,
   "metadata": {},
   "outputs": [
    {
     "name": "stdout",
     "output_type": "stream",
     "text": [
      "linux :  948 2 ('linux', 160)\n",
      "chromium-browser :  799 1 ('chromium-browser', 303)\n",
      "firefox-esr :  739 3 ('firefox-esr', 147)\n",
      "icedove :  600 5 ('icedove', 127)\n",
      "php7 :  386 19 ('php7', 28)\n",
      "openjdk :  309 7 ('openjdk', 89)\n",
      "wireshark :  303 14 ('wireshark', 43)\n",
      "xulrunner :  211 833 ('xulrunner', 0)\n",
      "mysql-transitional :  209 12 ('mysql-transitional', 47)\n",
      "imagemagick :  195 6 ('imagemagick', 99)\n",
      "iceape :  178 831 ('iceape', 0)\n",
      "xen :  172 8 ('xen', 59)\n",
      "tcpdump :  156 4 ('tcpdump', 131)\n",
      "wordpress :  147 13 ('wordpress', 46)\n",
      "openssl :  134 29 ('openssl', 13)\n",
      "tiff :  127 10 ('tiff', 55)\n",
      "qemu :  121 16 ('qemu', 36)\n",
      "mariadb-10.1 :  116 11 ('mariadb-10.1', 51)\n",
      "ruby2.3 :  84 15 ('ruby2.3', 39)\n",
      "graphicsmagick :  82 9 ('graphicsmagick', 56)\n",
      "one_only =  597\n",
      "one_plus =  681\n",
      "Total number of packages =  1278\n",
      "Total:  12192\n"
     ]
    },
    {
     "data": {
      "image/png": "[encoded data removed]",
      "text/plain": [
       "<Figure size 432x288 with 1 Axes>"
      ]
     },
     "metadata": {
      "needs_background": "light"
     },
     "output_type": "display_data"
    },
    {
     "name": "stdout",
     "output_type": "stream",
     "text": [
      "                            OLS Regression Results                            \n",
      "==============================================================================\n",
      "Dep. Variable:                      y   R-squared:                       0.796\n",
      "Model:                            OLS   Adj. R-squared:                  0.783\n",
      "Method:                 Least Squares   F-statistic:                     62.36\n",
      "Date:                Wed, 30 Oct 2019   Prob (F-statistic):           6.56e-07\n",
      "Time:                        15:02:36   Log-Likelihood:                -115.36\n",
      "No. Observations:                  18   AIC:                             234.7\n",
      "Df Residuals:                      16   BIC:                             236.5\n",
      "Df Model:                           1                                         \n",
      "Covariance Type:            nonrobust                                         \n",
      "==============================================================================\n",
      "                 coef    std err          t      P>|t|      [0.025      0.975]\n",
      "------------------------------------------------------------------------------\n",
      "const        120.0175     70.519      1.702      0.108     -29.476     269.511\n",
      "x1            55.9195      7.081      7.897      0.000      40.907      70.932\n",
      "==============================================================================\n",
      "Omnibus:                        6.195   Durbin-Watson:                   1.284\n",
      "Prob(Omnibus):                  0.045   Jarque-Bera (JB):                3.587\n",
      "Skew:                           0.994   Prob(JB):                        0.166\n",
      "Kurtosis:                       3.910   Cond. No.                         19.3\n",
      "==============================================================================\n",
      "\n",
      "Warnings:\n",
      "[1] Standard Errors assume that the covariance matrix of the errors is correctly specified.\n"
     ]
    },
    {
     "name": "stderr",
     "output_type": "stream",
     "text": [
      "/usr/local/lib/python3.6/dist-packages/scipy/stats/stats.py:1450: UserWarning: kurtosistest only valid for n>=20 ... continuing anyway, n=18\n",
      "  \"anyway, n=%i\" % int(n))\n"
     ]
    }
   ],
   "source": [
    "# We look at vulnerabilities per package\n",
    "\n",
    "src2sum = dict()\n",
    "src2year = dict()\n",
    "src2lastyears = dict()\n",
    "src2dens = dict()\n",
    "src2month_temp = dict()\n",
    "year_sum = [0]*(years+1)\n",
    "year_num = [0]*(years+1)\n",
    "\n",
    "for src in src2dsa:\n",
    "    src2year[src]=[0]*(years+1)\n",
    "\n",
    "for cve in cve_once:\n",
    "    try:\n",
    "        year=cve_once[cve].year\n",
    "        month=cve_once[cve].month\n",
    "        pkgs=cve2src[cve]\n",
    "    except KeyError:\n",
    "        continue\n",
    "    if year-2000 > years:\n",
    "        continue\n",
    "    year_sum[year-2000]+=1\n",
    "    for pkg in pkgs:\n",
    "        src2year[pkg][year-2000]+=1 \n",
    "\n",
    "for src in src2year:\n",
    "    src2sum[src]=sum(src2year[src])\n",
    "    src2lastyears[src]=sum(src2year[src][-2:])\n",
    "    i=0\n",
    "    for num in src2year[src]:\n",
    "        if num>0:\n",
    "            year_num[i]+=1\n",
    "        i+=1\n",
    "    \n",
    "# Print top 20 packages in total and last 2 year (2017-2018)\n",
    "sorted_x = sorted(src2sum.items(), key=lambda kv: kv[1], reverse=True)\n",
    "sorted_y = sorted(src2lastyears.items(), key=lambda kv: kv[1], reverse=True)\n",
    "for i in sorted_x[:20]:\n",
    "    pkg=i[0]\n",
    "    rank_last=1\n",
    "    for j in sorted_y:\n",
    "        if j[0]==pkg:\n",
    "            break\n",
    "        else:\n",
    "            rank_last+=1\n",
    "    print(pkg, ': ', i[1], rank_last, sorted_y[rank_last-1] )\n",
    "        \n",
    "#calc total\n",
    "one_only=0\n",
    "one_plus=0\n",
    "for src in src2year:\n",
    "    if sum(src2year[src])==1:\n",
    "        one_only+=1\n",
    "    elif sum(src2year[src])>1:\n",
    "        one_plus+=1\n",
    "        \n",
    "print('one_only = ', one_only)\n",
    "print('one_plus = ', one_plus)\n",
    "print('Total number of packages = ', one_only+one_plus)\n",
    "\n",
    "\n",
    "values = sorted(src2sum.values(),reverse=True)\n",
    "#print(values)\n",
    "keys = list(sorted(src2sum, key=src2sum.__getitem__, reverse=True))\n",
    "\n",
    "n = len(year_sum)\n",
    "yearsx = []\n",
    "for i in range(1,years+1):\n",
    "    if i%2==1:\n",
    "        yearsx.append('\\''+str(i).zfill(2))\n",
    "    else:\n",
    "        yearsx.append('')\n",
    "    \n",
    "x = range(years)\n",
    "width = 1/2\n",
    "plt.bar(x, year_sum[1:], width, color='darkblue', edgecolor='black')\n",
    "#plt.bar(x, average_per_year, width)\n",
    "plt.xticks(np.arange(0,n),yearsx)\n",
    "plt.ylabel('Total vulnerabilities')\n",
    "plt.xlabel('Year')\n",
    "#carlosplt.post_paper_plot(True,True,True)        \n",
    "sum_all = sum(values)\n",
    "print(\"Total: \", sum_all)\n",
    "\n",
    "## Linear regression model\n",
    "X = sm.add_constant(x)\n",
    "y = year_sum[1:]\n",
    "model = sm.OLS(y,X).fit()\n",
    "predictions = model.predict(X)\n",
    "plt.plot(predictions)\n",
    "plt.show()\n",
    "print(model.summary())\n",
    "#print(model.summary().as_latex())"
   ]
  },
  {
   "cell_type": "code",
   "execution_count": 18,
   "metadata": {},
   "outputs": [
    {
     "name": "stdout",
     "output_type": "stream",
     "text": [
      "package number =681... 681\n",
      "Spearman correlation:  SpearmanrResult(correlation=nan, pvalue=nan)\n"
     ]
    },
    {
     "name": "stderr",
     "output_type": "stream",
     "text": [
      "No handles with labels found to put in legend.\n"
     ]
    },
    {
     "data": {
      "image/png": "[encoded data removed]",
      "text/plain": [
       "<Figure size 720x360 with 1 Axes>"
      ]
     },
     "metadata": {
      "needs_background": "light"
     },
     "output_type": "display_data"
    }
   ],
   "source": [
    "src2sum_g2=dict()\n",
    "for src in src2sum:\n",
    "    if src2sum[src]>1:\n",
    "        src2sum_g2[src]=src2sum[src]\n",
    "values = sorted(src2sum_g2.values(),reverse=True)\n",
    "#print(values)\n",
    "keys = list(sorted(src2sum_g2, key=src2sum_g2.__getitem__, reverse=True))\n",
    "\n",
    "density = []\n",
    "density_keys=[]\n",
    "size = []\n",
    "size_dens = []\n",
    "\n",
    "for pkg in keys:\n",
    "    try:\n",
    "        size.append(src2sloccount[pkg][0]/1000)\n",
    "    except (KeyError):\n",
    "        size.append(0)\n",
    "\n",
    "j=0\n",
    "for pkg in keys:\n",
    "    try:\n",
    "        if (src2sloccount[pkg][0])>0:\n",
    "            density.append((values[j]/src2sloccount[pkg][0])*1000)\n",
    "            density_keys.append(pkg)\n",
    "            src2dens[pkg] = (values[j]/src2sloccount[pkg][0])*1000\n",
    "            size_dens.append(src2sloccount[pkg][0])\n",
    "    except(KeyError):\n",
    "        pass\n",
    "j += 1\n",
    "i = 0\n",
    "few_keys = []\n",
    "#print(keys)\n",
    "for k in keys:\n",
    "    if (i==0):\n",
    "        few_keys.append(k)\n",
    "        i+=1\n",
    "    if (i==10):\n",
    "        i = 0\n",
    "\n",
    "print('package number =' + str(len(values)) + '... ' + str(len(keys)))\n",
    "#carlosplt.pre_paper_plot(True)\n",
    "#plt.style.use('ggplot')\n",
    "\n",
    "print('Spearman correlation: ',stats.spearmanr(values,size))\n",
    "with open('sizes.txt', 'w') as thefile:\n",
    "    for item in size:\n",
    "        thefile.write(\"%.3f\\n\" % item)\n",
    "\n",
    "plt.figure(figsize=(10,5))\n",
    "plt.plot(values, color='darkblue', lw = 2)\n",
    "#plt.plot(size, 'ro', color='darkred', lw = 2, label='Size in KSLoC')\n",
    "plt.xticks(np.arange(0,len(src2sum_g2),10.0),few_keys, rotation=\"vertical\")\n",
    "plt.ylabel('Vulnerabilities')\n",
    "plt.yscale('log')\n",
    "plt.grid()\n",
    "#plt.xscale('log')\n",
    "plt.tight_layout()\n",
    "plt.legend()\n",
    "#carlosplt.post_paper_plot(True,True,True)\n",
    "plt.show()"
   ]
  },
  {
   "cell_type": "code",
   "execution_count": 12,
   "metadata": {},
   "outputs": [
    {
     "data": {
      "image/png": "[encoded data removed]",
      "text/plain": [
       "<Figure size 432x288 with 1 Axes>"
      ]
     },
     "metadata": {
      "needs_background": "light"
     },
     "output_type": "display_data"
    },
    {
     "name": "stdout",
     "output_type": "stream",
     "text": [
      "Slope: [0.30890256 0.80247773]\n"
     ]
    },
    {
     "data": {
      "image/png": "[encoded data removed]",
      "text/plain": [
       "<Figure size 432x288 with 1 Axes>"
      ]
     },
     "metadata": {
      "needs_background": "light"
     },
     "output_type": "display_data"
    },
    {
     "name": "stdout",
     "output_type": "stream",
     "text": [
      "                            OLS Regression Results                            \n",
      "==============================================================================\n",
      "Dep. Variable:                      y   R-squared:                       0.919\n",
      "Model:                            OLS   Adj. R-squared:                  0.914\n",
      "Method:                 Least Squares   F-statistic:                     180.7\n",
      "Date:                Wed, 30 Oct 2019   Prob (F-statistic):           3.91e-10\n",
      "Time:                        15:02:37   Log-Likelihood:                -12.213\n",
      "No. Observations:                  18   AIC:                             28.43\n",
      "Df Residuals:                      16   BIC:                             30.21\n",
      "Df Model:                           1                                         \n",
      "Covariance Type:            nonrobust                                         \n",
      "==============================================================================\n",
      "                 coef    std err          t      P>|t|      [0.025      0.975]\n",
      "------------------------------------------------------------------------------\n",
      "const          1.1114      0.229      4.856      0.000       0.626       1.597\n",
      "x1             0.3089      0.023     13.442      0.000       0.260       0.358\n",
      "==============================================================================\n",
      "Omnibus:                        3.018   Durbin-Watson:                   1.680\n",
      "Prob(Omnibus):                  0.221   Jarque-Bera (JB):                1.300\n",
      "Skew:                           0.594   Prob(JB):                        0.522\n",
      "Kurtosis:                       3.566   Cond. No.                         19.3\n",
      "==============================================================================\n",
      "\n",
      "Warnings:\n",
      "[1] Standard Errors assume that the covariance matrix of the errors is correctly specified.\n"
     ]
    }
   ],
   "source": [
    "## Number of affected packages\n",
    "n = len(year_sum)\n",
    "yearsx = []\n",
    "for i in range(1,years+1):\n",
    "    if i%2==1:\n",
    "        yearsx.append('\\''+str(i).zfill(2))\n",
    "    else:\n",
    "        yearsx.append('')\n",
    "    \n",
    "x = range(years)\n",
    "width = 1/2\n",
    "plt.bar(x, year_num[1:], width, color='darkblue', edgecolor='black')\n",
    "plt.xticks(np.arange(0,n),yearsx)\n",
    "plt.ylabel('Number of affected packages')\n",
    "plt.xlabel('Year')\n",
    "#carlosplt.post_paper_plot(True,True,True)\n",
    "plt.show()\n",
    "\n",
    "average_per_year = [0] * (years+1)\n",
    "for j in range(years+1):\n",
    "    try:\n",
    "        average_per_year[j] = year_sum[j]/float(year_num[j])\n",
    "    except ZeroDivisionError:\n",
    "        average_per_year[j]=0\n",
    "        \n",
    "x_values = list(range(1,years+1))\n",
    "slope = np.polyfit(x_values,average_per_year[1:],1)\n",
    "        \n",
    "print('Slope: ' + str(slope))        \n",
    "n = len(year_sum)\n",
    "x = range(years)\n",
    "width = 1/2\n",
    "#plt.bar(x, year_sum, width)\n",
    "plt.bar(x, average_per_year[1:], width, color='darkblue', edgecolor='black')\n",
    "plt.xticks(np.arange(0,n),yearsx)\n",
    "plt.ylabel('Average vulnerabilities per package')\n",
    "plt.xlabel('Year')\n",
    "#carlosplt.post_paper_plot(True,True,True)\n",
    "## Linear regression\n",
    "X = sm.add_constant(x)\n",
    "y = average_per_year[1:]\n",
    "model = sm.OLS(y,X).fit()\n",
    "predictions = model.predict(X)\n",
    "plt.plot(predictions)\n",
    "plt.show()\n",
    "print(model.summary())\n",
    "#print(model.summary().as_latex())"
   ]
  },
  {
   "cell_type": "code",
   "execution_count": 13,
   "metadata": {},
   "outputs": [
    {
     "data": {
      "image/png": "[encoded data removed]",
      "text/plain": [
       "<Figure size 432x288 with 1 Axes>"
      ]
     },
     "metadata": {
      "needs_background": "light"
     },
     "output_type": "display_data"
    },
    {
     "data": {
      "image/png": "[encoded data removed]",
      "text/plain": [
       "<Figure size 432x288 with 1 Axes>"
      ]
     },
     "metadata": {
      "needs_background": "light"
     },
     "output_type": "display_data"
    },
    {
     "name": "stdout",
     "output_type": "stream",
     "text": [
      "20\n",
      "20\n",
      "20\n",
      "20\n",
      "20\n"
     ]
    },
    {
     "data": {
      "image/png": "[encoded data removed]",
      "text/plain": [
       "<Figure size 432x288 with 1 Axes>"
      ]
     },
     "metadata": {
      "needs_background": "light"
     },
     "output_type": "display_data"
    },
    {
     "name": "stdout",
     "output_type": "stream",
     "text": [
      "                            OLS Regression Results                            \n",
      "==============================================================================\n",
      "Dep. Variable:                      y   R-squared:                       0.564\n",
      "Model:                            OLS   Adj. R-squared:                  0.540\n",
      "Method:                 Least Squares   F-statistic:                     23.29\n",
      "Date:                Wed, 30 Oct 2019   Prob (F-statistic):           0.000136\n",
      "Time:                        15:02:39   Log-Likelihood:                -109.87\n",
      "No. Observations:                  20   AIC:                             223.7\n",
      "Df Residuals:                      18   BIC:                             225.7\n",
      "Df Model:                           1                                         \n",
      "Covariance Type:            nonrobust                                         \n",
      "==============================================================================\n",
      "                 coef    std err          t      P>|t|      [0.025      0.975]\n",
      "------------------------------------------------------------------------------\n",
      "const        153.1143     26.723      5.730      0.000      96.972     209.256\n",
      "x1            11.6038      2.405      4.826      0.000       6.552      16.656\n",
      "==============================================================================\n",
      "Omnibus:                        1.893   Durbin-Watson:                   1.736\n",
      "Prob(Omnibus):                  0.388   Jarque-Bera (JB):                0.748\n",
      "Skew:                           0.445   Prob(JB):                        0.688\n",
      "Kurtosis:                       3.324   Cond. No.                         21.5\n",
      "==============================================================================\n",
      "\n",
      "Warnings:\n",
      "[1] Standard Errors assume that the covariance matrix of the errors is correctly specified.\n"
     ]
    }
   ],
   "source": [
    "quarter_num = years*4\n",
    "# Get LTS and plot\n",
    "\n",
    "cve_once_dla=dict()\n",
    "\n",
    "for src in src2dla:\n",
    "    for dla in src2dla[src]:\n",
    "        for cve in dla[0]:\n",
    "            if cve not in cve_once_dla:\n",
    "                year1 = dla[1][0]\n",
    "                month1 = dla[1][1]\n",
    "                date1 = str(year1)+'-'+str(month1)\n",
    "                date1 = datetime.datetime.strptime(date1, '%Y-%m')\n",
    "            try:\n",
    "                date2=cvedict[cve]['Published']\n",
    "                if date1<date2:\n",
    "                    date=date1\n",
    "                else:\n",
    "                    date=date2\n",
    "                cve_once_dla[cve]=date\n",
    "                continue\n",
    "            except KeyError:\n",
    "                cve_once_dla[cve]=date1\n",
    "                continue\n",
    "        if cve in cve_once_dla:\n",
    "            year1 = dla[1][0]\n",
    "            month1 = dla[1][1]\n",
    "            date1 = str(year1)+'-'+str(month1)\n",
    "            date1 = datetime.datetime.strptime(date1, '%Y-%m')\n",
    "            date2 = cve_once_dla[cve]\n",
    "            if date1<date2:\n",
    "                date=date1\n",
    "            else:\n",
    "                date=date2    \n",
    "            cve_once_dla[cve]=date\n",
    "            \n",
    "## Plot for wheezy\n",
    "quarter_sum = [0] * quarter_num\n",
    "\n",
    "total_DLA=[0]*(years+1)*12\n",
    "\n",
    "num_low_DLA = [0] * (years+1) * 12\n",
    "num_med_DLA = [0] * (years+1) * 12\n",
    "num_high_DLA = [0] * (years+1) * 12\n",
    "num_udef_DLA = [0] * (years+1) * 12\n",
    "for i in cve_once_dla:\n",
    "    year = cve_once_dla[i].year\n",
    "    month = cve_once_dla[i].month\n",
    "    index = (year-2000)*12+month-1\n",
    "    if year-2000 > years:\n",
    "        continue\n",
    "    total_DLA[index] += 1\n",
    "    try:\n",
    "        cvss=cvedict[i]['cvss']\n",
    "        if cvss<0.0 or cvss>10.0:\n",
    "            print('Unexpected')\n",
    "            num_udef_DLA[index] += 1\n",
    "        if cvss<4.0:        \n",
    "            num_low_DLA[index] += 1\n",
    "        elif cvss<7.0:\n",
    "            num_med_DLA[index] += 1\n",
    "        else:    \n",
    "            num_high_DLA[index] += 1\n",
    "    except:\n",
    "        num_udef_DLA[index] += 1\n",
    "\n",
    "l=1\n",
    "m=1\n",
    "h=1\n",
    "udef=1\n",
    "\n",
    "filtered_DLA=[0]*len(total_DLA)\n",
    "        \n",
    "for i in range(len(total_DLA)):\n",
    "    tempp=0\n",
    "    if l:\n",
    "        tempp += num_low_DLA[i]\n",
    "    if m:\n",
    "        tempp += num_med_DLA[i]\n",
    "    if h:\n",
    "        tempp += num_high_DLA[i]\n",
    "    if udef:\n",
    "        tempp += num_udef_DLA[i]\n",
    "    filtered_DLA[i]+=tempp          \n",
    "        \n",
    "ltslist = filtered_DLA\n",
    "\n",
    "totalLTS = ltslist\n",
    "plt.bar([i for i in range(len(ltslist))],ltslist)\n",
    "plt.show()\n",
    "\n",
    "quartersx = []\n",
    "for i in range(1,years+1):\n",
    "    for j in range(1,5):\n",
    "        if j==1:\n",
    "            quartersx.append('Q' + str(j)+'\\''+str(i).zfill(2))\n",
    "        else:\n",
    "            quartersx.append(' ')\n",
    "    \n",
    "for j in range(quarter_num):\n",
    "    quarter_sum[j] =  sum(total[12+(3*j):12+3*(j+1)])\n",
    "\n",
    "LTS_quarter = []\n",
    "    \n",
    "for j in range(quarter_num):\n",
    "    temp = sum(totalLTS[12+(3*j):12+3*(j+1)])\n",
    "    LTS_quarter.append(temp)\n",
    "\n",
    "## Print all LTS\n",
    "cut = 12*4+1\n",
    "n = len(quarter_sum)\n",
    "x = range(quarter_num)\n",
    "width = 1/2\n",
    "\n",
    "plt.bar(x, LTS_quarter, width, color='brown', label='regular support', edgecolor='black')\n",
    "plt.xticks(np.arange(0,n),quartersx, rotation=\"vertical\")\n",
    "plt.ylabel('Vulnerabilities per quarter of Debian LTS')\n",
    "plt.xlabel('Quarter')\n",
    "#carlosplt.post_paper_plot(True,True,True)\n",
    "plt.show()\n",
    "    \n",
    "## Filter only wheezy:\n",
    "quarter_sum_regular = [0] * (12*4+1) + quarter_sum[12*4+1:12*4+9] + [0] * 12\n",
    "quarter_sum_errors = [0] * (12*4 + 9) + quarter_sum[12*4+9:12*4+9+5] + [0] * 7\n",
    "LTS_quarter = [0] * (15*4+2) + LTS_quarter[15*4+2:-3]\n",
    "whole_w = quarter_sum_regular[:-12] + quarter_sum_errors[12*4+9:-7] + LTS_quarter[15*4+2:]\n",
    "    \n",
    "#print(quarter_sum_errors)\n",
    "cut = 12*4+1\n",
    "n = len(quarter_sum) - cut\n",
    "x = range(quarter_num-cut-3)\n",
    "width = 1/2       \n",
    "print(len(x))\n",
    "print(len(quarter_sum_regular[cut:]))\n",
    "print(len(quarter_sum_errors[cut:]))\n",
    "bar1 = plt.bar(x, quarter_sum_regular[cut:], width, color='darkblue', label='regular', edgecolor='black')\n",
    "bar12 = plt.bar(x, quarter_sum_errors[cut:], width, color='darkorange', label='regular*', edgecolor='black')\n",
    "bar2 = plt.bar(x, LTS_quarter[cut:], width, color='darkred', label ='long-term', edgecolor='black')\n",
    "plt.legend(handles=[bar1, bar12, bar2])\n",
    "    \n",
    "plt.xticks(np.arange(0,n),quartersx[cut:], rotation=\"vertical\")\n",
    "plt.ylabel('Vulnerabilities per quarter')\n",
    "plt.xlabel('Quarter')\n",
    "#carlosplt.post_paper_plot(True,True,True)\n",
    "## Linear Regression\n",
    "print(len(x))\n",
    "print(len(whole_w[cut:]))\n",
    "X = sm.add_constant(x)\n",
    "y = whole_w[cut:]\n",
    "model = sm.OLS(y,X).fit()\n",
    "predictions = model.predict(X)\n",
    "plt.plot(predictions)\n",
    "plt.show()\n",
    "print(model.summary())\n",
    "#print(model.summary().as_latex())"
   ]
  },
  {
   "cell_type": "code",
   "execution_count": 14,
   "metadata": {},
   "outputs": [
    {
     "data": {
      "image/png": "[encoded data removed]",
      "text/plain": [
       "<Figure size 432x288 with 1 Axes>"
      ]
     },
     "metadata": {
      "needs_background": "light"
     },
     "output_type": "display_data"
    },
    {
     "data": {
      "image/png": "[encoded data removed]",
      "text/plain": [
       "<Figure size 432x288 with 1 Axes>"
      ]
     },
     "metadata": {
      "needs_background": "light"
     },
     "output_type": "display_data"
    },
    {
     "name": "stdout",
     "output_type": "stream",
     "text": [
      "20\n",
      "20\n",
      "20\n",
      "20\n",
      "20\n"
     ]
    },
    {
     "data": {
      "image/png": "[encoded data removed]",
      "text/plain": [
       "<Figure size 432x288 with 1 Axes>"
      ]
     },
     "metadata": {
      "needs_background": "light"
     },
     "output_type": "display_data"
    },
    {
     "name": "stdout",
     "output_type": "stream",
     "text": [
      "                            OLS Regression Results                            \n",
      "==============================================================================\n",
      "Dep. Variable:                      y   R-squared:                       0.318\n",
      "Model:                            OLS   Adj. R-squared:                  0.280\n",
      "Method:                 Least Squares   F-statistic:                     8.402\n",
      "Date:                Wed, 30 Oct 2019   Prob (F-statistic):            0.00957\n",
      "Time:                        15:02:41   Log-Likelihood:                -94.032\n",
      "No. Observations:                  20   AIC:                             192.1\n",
      "Df Residuals:                      18   BIC:                             194.1\n",
      "Df Model:                           1                                         \n",
      "Covariance Type:            nonrobust                                         \n",
      "==============================================================================\n",
      "                 coef    std err          t      P>|t|      [0.025      0.975]\n",
      "------------------------------------------------------------------------------\n",
      "const         46.8571     12.104      3.871      0.001      21.427      72.287\n",
      "x1             3.1571      1.089      2.899      0.010       0.869       5.445\n",
      "==============================================================================\n",
      "Omnibus:                       20.152   Durbin-Watson:                   1.990\n",
      "Prob(Omnibus):                  0.000   Jarque-Bera (JB):               26.851\n",
      "Skew:                           1.753   Prob(JB):                     1.48e-06\n",
      "Kurtosis:                       7.464   Cond. No.                         21.5\n",
      "==============================================================================\n",
      "\n",
      "Warnings:\n",
      "[1] Standard Errors assume that the covariance matrix of the errors is correctly specified.\n"
     ]
    }
   ],
   "source": [
    "## Plot for wheezy ONLY HIGH severity\n",
    "quarter_sum = [0] * quarter_num\n",
    "\n",
    "l=0\n",
    "m=0\n",
    "h=1\n",
    "udef=0\n",
    "\n",
    "filtered_DLA=[0]*len(total_DLA)\n",
    "        \n",
    "for i in range(len(total_DLA)):\n",
    "    tempp=0\n",
    "    if l:\n",
    "        tempp += num_low_DLA[i]\n",
    "    if m:\n",
    "        tempp += num_med_DLA[i]\n",
    "    if h:\n",
    "        tempp += num_high_DLA[i]\n",
    "    if udef:\n",
    "        tempp += num_udef_DLA[i]\n",
    "    filtered_DLA[i]+=tempp          \n",
    "        \n",
    "ltslist = filtered_DLA\n",
    "\n",
    "totalLTS = ltslist\n",
    "plt.bar([i for i in range(len(ltslist))],ltslist)\n",
    "plt.show()\n",
    "\n",
    "quartersx = []\n",
    "for i in range(1,years+1):\n",
    "    for j in range(1,5):\n",
    "        if j==1:\n",
    "            quartersx.append('Q' + str(j)+'\\''+str(i).zfill(2))\n",
    "        else:\n",
    "            quartersx.append(' ')\n",
    "    \n",
    "for j in range(quarter_num):\n",
    "    quarter_sum[j] =  sum(filtered[12+(3*j):12+3*(j+1)])\n",
    "\n",
    "LTS_quarter = []\n",
    "    \n",
    "for j in range(quarter_num):\n",
    "    temp = sum(totalLTS[12+(3*j):12+3*(j+1)])\n",
    "    LTS_quarter.append(temp)\n",
    "\n",
    "## Print all LTS\n",
    "cut = 12*4+1\n",
    "n = len(quarter_sum)\n",
    "x = range(quarter_num)\n",
    "width = 1/2\n",
    "\n",
    "plt.bar(x, LTS_quarter, width, color='brown', label='regular support', edgecolor='black')\n",
    "plt.xticks(np.arange(0,n),quartersx, rotation=\"vertical\")\n",
    "plt.ylabel('Vulnerabilities per quarter of Debian LTS')\n",
    "plt.xlabel('Quarter')\n",
    "#carlosplt.post_paper_plot(True,True,True)\n",
    "plt.show()\n",
    "    \n",
    "## Filter only wheezy:\n",
    "quarter_sum_regular = [0] * (12*4+1) + quarter_sum[12*4+1:12*4+9] + [0] * 12\n",
    "quarter_sum_errors = [0] * (12*4 + 9) + quarter_sum[12*4+9:12*4+9+5] + [0] * 7\n",
    "LTS_quarter = [0] * (15*4+2) + LTS_quarter[15*4+2:-3]\n",
    "whole_w = quarter_sum_regular[:-12] + quarter_sum_errors[12*4+9:-7] + LTS_quarter[15*4+2:]\n",
    "    \n",
    "#print(quarter_sum_errors)\n",
    "cut = 12*4+1\n",
    "n = len(quarter_sum) - cut\n",
    "x = range(quarter_num-cut-3)\n",
    "width = 1/2       \n",
    "print(len(x))\n",
    "print(len(quarter_sum_regular[cut:]))\n",
    "print(len(quarter_sum_errors[cut:]))\n",
    "bar1 = plt.bar(x, quarter_sum_regular[cut:], width, color='darkblue', label='regular', edgecolor='black')\n",
    "bar12 = plt.bar(x, quarter_sum_errors[cut:], width, color='darkorange', label='regular*', edgecolor='black')\n",
    "bar2 = plt.bar(x, LTS_quarter[cut:], width, color='darkred', label ='long-term', edgecolor='black')\n",
    "plt.legend(handles=[bar1, bar12, bar2])\n",
    "    \n",
    "plt.xticks(np.arange(0,n),quartersx[cut:], rotation=\"vertical\")\n",
    "plt.ylabel('Vulnerabilities per quarter')\n",
    "plt.xlabel('Quarter')\n",
    "#carlosplt.post_paper_plot(True,True,True)\n",
    "## Linear Regression\n",
    "print(len(x))\n",
    "print(len(whole_w[cut:]))\n",
    "X = sm.add_constant(x)\n",
    "y = whole_w[cut:]\n",
    "model = sm.OLS(y,X).fit()\n",
    "predictions = model.predict(X)\n",
    "plt.plot(predictions)\n",
    "plt.show()\n",
    "print(model.summary())\n",
    "#print(model.summary().as_latex())"
   ]
  }
 ],
 "metadata": {
  "kernelspec": {
   "display_name": "Python 3",
   "language": "python",
   "name": "python3"
  },
  "language_info": {
   "codemirror_mode": {
    "name": "ipython",
    "version": 3
   },
   "file_extension": ".py",
   "mimetype": "text/x-python",
   "name": "python",
   "nbconvert_exporter": "python",
   "pygments_lexer": "ipython3",
   "version": "3.6.8"
  }
 },
 "nbformat": 4,
 "nbformat_minor": 4
}
