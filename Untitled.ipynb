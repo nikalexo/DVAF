{
 "cells": [
  {
   "cell_type": "code",
   "execution_count": 2,
   "metadata": {},
   "outputs": [],
   "source": [
    "import json\n",
    "from datetime import datetime\n",
    "from dateutil import parser\n",
    "import matplotlib.pyplot as plt\n",
    "import numpy as np\n",
    "import paper_plots as carlosplt"
   ]
  },
  {
   "cell_type": "code",
   "execution_count": 6,
   "metadata": {},
   "outputs": [],
   "source": [
    "with open(\"reports_team.json\", \"r\") as fp:\n",
    "    reports_team = json.load(fp)\n",
    "\n",
    "with open(\"sum_team.json\", \"r\") as fp:\n",
    "    sum_team = json.load(fp)\n",
    "\n",
    "ibb_list = ['ibb-php', 'ibb-python', 'ibb-data', 'ibb-flash', 'ibb-nginx', 'ibb-perl', 'internet', 'ibb-openssl', 'ibb-apache']"
   ]
  },
  {
   "cell_type": "code",
   "execution_count": 14,
   "metadata": {
    "collapsed": true,
    "jupyter": {
     "outputs_hidden": true
    }
   },
   "outputs": [
    {
     "name": "stdout",
     "output_type": "stream",
     "text": [
      "33\n",
      "{'id': 'd7aff9a244b1f7fe5e7d0ffce30a5538', 'reporter': {'id': 2468, 'username': 'libnex', 'url': '/libnex'}, 'team': {'url': '/ibb-php', 'handle': 'ibb-php', 'profile_picture_urls': {'small': 'https://profile-photos.hackerone-user-content.com/000/000/029/0a20311cece1ff1938eac3f9b09a6af056bc9e90_small.png?1385119730', 'medium': 'https://profile-photos.hackerone-user-content.com/000/000/029/991fb39ba898696eb6ae62521c49b292b2a9cf95_medium.png?1385119730'}, 'profile': {'name': 'PHP (IBB)'}}, 'bounty_disclosed': True, 'swag': False, 'latest_disclosable_activity_at': '2017-08-21T19:44:46.332Z', 'latest_disclosable_action': 'closed', 'vote_count': 1, 'voters': ['japz'], 'requires_view_privilege': False}\n",
      "{'id': 'f5d6236cee3dfc3192736ced33f3eda8', 'reporter': {'id': 98646, 'username': 'aerodudrizzt', 'url': '/aerodudrizzt'}, 'team': {'url': '/ibb-php', 'handle': 'ibb-php', 'profile_picture_urls': {'small': 'https://profile-photos.hackerone-user-content.com/000/000/029/0a20311cece1ff1938eac3f9b09a6af056bc9e90_small.png?1385119730', 'medium': 'https://profile-photos.hackerone-user-content.com/000/000/029/991fb39ba898696eb6ae62521c49b292b2a9cf95_medium.png?1385119730'}, 'profile': {'name': 'PHP (IBB)'}}, 'bounty_disclosed': True, 'swag': False, 'latest_disclosable_activity_at': '2017-02-07T07:43:51.340Z', 'latest_disclosable_action': 'closed', 'vote_count': 1, 'voters': ['spetr0x'], 'requires_view_privilege': False}\n",
      "{'id': 'a92f9ec67ac8a0679948925c50d48dbd', 'reporter': {'id': 6044, 'username': 'jot', 'url': '/jot'}, 'team': {'url': '/ibb-php', 'handle': 'ibb-php', 'profile_picture_urls': {'small': 'https://profile-photos.hackerone-user-content.com/000/000/029/0a20311cece1ff1938eac3f9b09a6af056bc9e90_small.png?1385119730', 'medium': 'https://profile-photos.hackerone-user-content.com/000/000/029/991fb39ba898696eb6ae62521c49b292b2a9cf95_medium.png?1385119730'}, 'profile': {'name': 'PHP (IBB)'}}, 'bounty_disclosed': True, 'swag': False, 'latest_disclosable_activity_at': '2016-12-03T21:23:20.329Z', 'latest_disclosable_action': 'closed', 'vote_count': 2, 'voters': ['jot', 'spetr0x'], 'requires_view_privilege': False}\n",
      "{'id': '136ade57572241eb57cb56a88e358d45', 'reporter': {'id': 6044, 'username': 'jot', 'url': '/jot'}, 'team': {'url': '/ibb-php', 'handle': 'ibb-php', 'profile_picture_urls': {'small': 'https://profile-photos.hackerone-user-content.com/000/000/029/0a20311cece1ff1938eac3f9b09a6af056bc9e90_small.png?1385119730', 'medium': 'https://profile-photos.hackerone-user-content.com/000/000/029/991fb39ba898696eb6ae62521c49b292b2a9cf95_medium.png?1385119730'}, 'profile': {'name': 'PHP (IBB)'}}, 'bounty_disclosed': True, 'swag': False, 'latest_disclosable_activity_at': '2016-12-03T21:19:27.956Z', 'latest_disclosable_action': 'closed', 'vote_count': 1, 'voters': ['spetr0x'], 'requires_view_privilege': False}\n",
      "{'id': 'd6abe5033c9f7bb72ccc21651623b474', 'reporter': {'id': 6044, 'username': 'jot', 'url': '/jot'}, 'team': {'url': '/ibb-php', 'handle': 'ibb-php', 'profile_picture_urls': {'small': 'https://profile-photos.hackerone-user-content.com/000/000/029/0a20311cece1ff1938eac3f9b09a6af056bc9e90_small.png?1385119730', 'medium': 'https://profile-photos.hackerone-user-content.com/000/000/029/991fb39ba898696eb6ae62521c49b292b2a9cf95_medium.png?1385119730'}, 'profile': {'name': 'PHP (IBB)'}}, 'bounty_disclosed': True, 'swag': False, 'latest_disclosable_activity_at': '2016-12-03T21:18:43.126Z', 'latest_disclosable_action': 'closed', 'vote_count': 1, 'voters': ['spetr0x'], 'requires_view_privilege': False}\n",
      "{'id': '8360f9eac3cbb830e160044c6a980305', 'reporter': {'id': 16588, 'username': 'aaron_costello', 'url': '/aaron_costello'}, 'team': {'url': '/ibb-php', 'handle': 'ibb-php', 'profile_picture_urls': {'small': 'https://profile-photos.hackerone-user-content.com/000/000/029/0a20311cece1ff1938eac3f9b09a6af056bc9e90_small.png?1385119730', 'medium': 'https://profile-photos.hackerone-user-content.com/000/000/029/991fb39ba898696eb6ae62521c49b292b2a9cf95_medium.png?1385119730'}, 'profile': {'name': 'PHP (IBB)'}}, 'bounty_disclosed': True, 'swag': False, 'latest_disclosable_activity_at': '2016-12-03T21:10:07.393Z', 'latest_disclosable_action': 'closed', 'vote_count': 3, 'voters': ['aaron_costello', 'ibrahimd', 'spetr0x'], 'requires_view_privilege': False}\n",
      "{'id': 'f628a3dae32af94c89b0493272aaa99a', 'reporter': {'id': 96466, 'username': 'kmkz', 'url': '/kmkz'}, 'team': {'url': '/ibb-php', 'handle': 'ibb-php', 'profile_picture_urls': {'small': 'https://profile-photos.hackerone-user-content.com/000/000/029/0a20311cece1ff1938eac3f9b09a6af056bc9e90_small.png?1385119730', 'medium': 'https://profile-photos.hackerone-user-content.com/000/000/029/991fb39ba898696eb6ae62521c49b292b2a9cf95_medium.png?1385119730'}, 'profile': {'name': 'PHP (IBB)'}}, 'bounty_disclosed': True, 'swag': False, 'latest_disclosable_activity_at': '2016-07-31T21:39:14.889Z', 'latest_disclosable_action': 'closed', 'vote_count': 0, 'voters': [], 'requires_view_privilege': False}\n",
      "{'id': 'bef41a343a06e8c8bb44b8fed3c2caab', 'reporter': {'id': 2468, 'username': 'libnex', 'url': '/libnex'}, 'team': {'url': '/ibb-php', 'handle': 'ibb-php', 'profile_picture_urls': {'small': 'https://profile-photos.hackerone-user-content.com/000/000/029/0a20311cece1ff1938eac3f9b09a6af056bc9e90_small.png?1385119730', 'medium': 'https://profile-photos.hackerone-user-content.com/000/000/029/991fb39ba898696eb6ae62521c49b292b2a9cf95_medium.png?1385119730'}, 'profile': {'name': 'PHP (IBB)'}}, 'bounty_disclosed': True, 'swag': False, 'latest_disclosable_activity_at': '2016-07-31T18:44:16.364Z', 'latest_disclosable_action': 'closed', 'vote_count': 0, 'voters': [], 'requires_view_privilege': False}\n",
      "{'id': '8071f0c170b82a275fb2c1d098febddf', 'reporter': {'id': 2423, 'username': 'fms', 'url': '/fms'}, 'team': {'url': '/ibb-php', 'handle': 'ibb-php', 'profile_picture_urls': {'small': 'https://profile-photos.hackerone-user-content.com/000/000/029/0a20311cece1ff1938eac3f9b09a6af056bc9e90_small.png?1385119730', 'medium': 'https://profile-photos.hackerone-user-content.com/000/000/029/991fb39ba898696eb6ae62521c49b292b2a9cf95_medium.png?1385119730'}, 'profile': {'name': 'PHP (IBB)'}}, 'bounty_disclosed': True, 'swag': False, 'latest_disclosable_activity_at': '2016-07-31T18:40:18.443Z', 'latest_disclosable_action': 'closed', 'vote_count': 0, 'voters': [], 'requires_view_privilege': False}\n",
      "{'id': 125397, 'title': 'Null pointer deref (segfault) in stream_context_get_default', 'url': '/reports/125397', 'substate': 'resolved', 'readable_substate': 'Resolved', 'reporter': {'id': 4675, 'username': 'cyberpunkych', 'url': '/cyberpunkych'}, 'team': {'url': '/ibb-php', 'handle': 'ibb-php', 'profile_picture_urls': {'small': 'https://profile-photos.hackerone-user-content.com/000/000/029/0a20311cece1ff1938eac3f9b09a6af056bc9e90_small.png?1385119730', 'medium': 'https://profile-photos.hackerone-user-content.com/000/000/029/991fb39ba898696eb6ae62521c49b292b2a9cf95_medium.png?1385119730'}, 'profile': {'name': 'PHP (IBB)'}}, 'bounty_disclosed': True, 'swag': False, 'latest_disclosable_activity_at': '2016-05-17T20:21:26.418Z', 'latest_disclosable_action': 'disclosed', 'vote_count': 1, 'voters': ['dyabla'], 'requires_view_privilege': False}\n",
      "{'id': 'c01430973d4dbedaa4d48b6f358ffdc7', 'reporter': {'id': 49175, 'username': 'haxta4ok00', 'url': '/haxta4ok00'}, 'team': {'url': '/ibb-php', 'handle': 'ibb-php', 'profile_picture_urls': {'small': 'https://profile-photos.hackerone-user-content.com/000/000/029/0a20311cece1ff1938eac3f9b09a6af056bc9e90_small.png?1385119730', 'medium': 'https://profile-photos.hackerone-user-content.com/000/000/029/991fb39ba898696eb6ae62521c49b292b2a9cf95_medium.png?1385119730'}, 'profile': {'name': 'PHP (IBB)'}}, 'bounty_disclosed': True, 'swag': False, 'latest_disclosable_activity_at': '2016-05-01T01:06:50.671Z', 'latest_disclosable_action': 'closed', 'vote_count': 0, 'voters': [], 'requires_view_privilege': False}\n",
      "{'id': '78f10f02ccc9901fda95ebcd5e702eb2', 'reporter': {'id': 2004, 'username': 'seanhn', 'url': '/seanhn'}, 'team': {'url': '/ibb-php', 'handle': 'ibb-php', 'profile_picture_urls': {'small': 'https://profile-photos.hackerone-user-content.com/000/000/029/0a20311cece1ff1938eac3f9b09a6af056bc9e90_small.png?1385119730', 'medium': 'https://profile-photos.hackerone-user-content.com/000/000/029/991fb39ba898696eb6ae62521c49b292b2a9cf95_medium.png?1385119730'}, 'profile': {'name': 'PHP (IBB)'}}, 'bounty_disclosed': True, 'swag': False, 'latest_disclosable_activity_at': '2016-05-01T01:04:06.524Z', 'latest_disclosable_action': 'closed', 'vote_count': 0, 'voters': [], 'requires_view_privilege': False}\n",
      "{'id': '8024712fbc2ebf5a26b34a6ac3db210e', 'reporter': {'id': 20683, 'username': 'l4w', 'url': '/l4w'}, 'team': {'url': '/ibb-php', 'handle': 'ibb-php', 'profile_picture_urls': {'small': 'https://profile-photos.hackerone-user-content.com/000/000/029/0a20311cece1ff1938eac3f9b09a6af056bc9e90_small.png?1385119730', 'medium': 'https://profile-photos.hackerone-user-content.com/000/000/029/991fb39ba898696eb6ae62521c49b292b2a9cf95_medium.png?1385119730'}, 'profile': {'name': 'PHP (IBB)'}}, 'bounty_disclosed': True, 'swag': False, 'latest_disclosable_activity_at': '2016-05-01T00:40:13.294Z', 'latest_disclosable_action': 'closed', 'vote_count': 0, 'voters': [], 'requires_view_privilege': False}\n",
      "{'id': '1633d875f0bd9524018edced83ee61de', 'reporter': {'id': 20683, 'username': 'l4w', 'url': '/l4w'}, 'team': {'url': '/ibb-php', 'handle': 'ibb-php', 'profile_picture_urls': {'small': 'https://profile-photos.hackerone-user-content.com/000/000/029/0a20311cece1ff1938eac3f9b09a6af056bc9e90_small.png?1385119730', 'medium': 'https://profile-photos.hackerone-user-content.com/000/000/029/991fb39ba898696eb6ae62521c49b292b2a9cf95_medium.png?1385119730'}, 'profile': {'name': 'PHP (IBB)'}}, 'bounty_disclosed': True, 'swag': False, 'latest_disclosable_activity_at': '2016-05-01T00:35:14.472Z', 'latest_disclosable_action': 'closed', 'vote_count': 0, 'voters': [], 'requires_view_privilege': False}\n",
      "{'id': '5b54edb4caa507d727155ee72cf1bc68', 'reporter': {'id': 42158, 'username': 'imrerad', 'url': '/imrerad'}, 'team': {'url': '/ibb-php', 'handle': 'ibb-php', 'profile_picture_urls': {'small': 'https://profile-photos.hackerone-user-content.com/000/000/029/0a20311cece1ff1938eac3f9b09a6af056bc9e90_small.png?1385119730', 'medium': 'https://profile-photos.hackerone-user-content.com/000/000/029/991fb39ba898696eb6ae62521c49b292b2a9cf95_medium.png?1385119730'}, 'profile': {'name': 'PHP (IBB)'}}, 'bounty_disclosed': True, 'swag': False, 'latest_disclosable_activity_at': '2016-05-01T00:16:10.237Z', 'latest_disclosable_action': 'closed', 'vote_count': 0, 'voters': [], 'requires_view_privilege': False}\n",
      "{'id': 'f2450520a355868c776cf9445a229cb6', 'reporter': {'id': 42158, 'username': 'imrerad', 'url': '/imrerad'}, 'team': {'url': '/ibb-php', 'handle': 'ibb-php', 'profile_picture_urls': {'small': 'https://profile-photos.hackerone-user-content.com/000/000/029/0a20311cece1ff1938eac3f9b09a6af056bc9e90_small.png?1385119730', 'medium': 'https://profile-photos.hackerone-user-content.com/000/000/029/991fb39ba898696eb6ae62521c49b292b2a9cf95_medium.png?1385119730'}, 'profile': {'name': 'PHP (IBB)'}}, 'bounty_disclosed': True, 'swag': False, 'latest_disclosable_activity_at': '2016-05-01T00:15:36.607Z', 'latest_disclosable_action': 'closed', 'vote_count': 0, 'voters': [], 'requires_view_privilege': False}\n"
     ]
    }
   ],
   "source": [
    "print(len(reports_team['ibb-data']))\n",
    "sumphp=0\n",
    "numphp=0\n",
    "for report in reports_team['ibb-php']:\n",
    "    try:\n",
    "        sumphp+=float(report['total_awarded_bounty_amount'])\n",
    "    except:\n",
    "        print(report)"
   ]
  },
  {
   "cell_type": "code",
   "execution_count": 39,
   "metadata": {
    "collapsed": true,
    "jupyter": {
     "outputs_hidden": true
    }
   },
   "outputs": [
    {
     "name": "stdout",
     "output_type": "stream",
     "text": [
      "'total_awarded_bounty_amount'\n",
      "'total_awarded_bounty_amount'\n",
      "'total_awarded_bounty_amount'\n",
      "'total_awarded_bounty_amount'\n",
      "'total_awarded_bounty_amount'\n",
      "'total_awarded_bounty_amount'\n",
      "'total_awarded_bounty_amount'\n",
      "'total_awarded_bounty_amount'\n",
      "'total_awarded_bounty_amount'\n",
      "'total_awarded_bounty_amount'\n",
      "'total_awarded_bounty_amount'\n",
      "'total_awarded_bounty_amount'\n",
      "'total_awarded_bounty_amount'\n",
      "'total_awarded_bounty_amount'\n",
      "'total_awarded_bounty_amount'\n",
      "'total_awarded_bounty_amount'\n",
      "'total_awarded_bounty_amount'\n",
      "'total_awarded_bounty_amount'\n",
      "'total_awarded_bounty_amount'\n",
      "'total_awarded_bounty_amount'\n",
      "'total_awarded_bounty_amount'\n",
      "'total_awarded_bounty_amount'\n",
      "'total_awarded_bounty_amount'\n",
      "'total_awarded_bounty_amount'\n",
      "'total_awarded_bounty_amount'\n",
      "'total_awarded_bounty_amount'\n",
      "'total_awarded_bounty_amount'\n",
      "'total_awarded_bounty_amount'\n",
      "'total_awarded_bounty_amount'\n",
      "'total_awarded_bounty_amount'\n",
      "'total_awarded_bounty_amount'\n",
      "'total_awarded_bounty_amount'\n",
      "'total_awarded_bounty_amount'\n",
      "'total_awarded_bounty_amount'\n",
      "'total_awarded_bounty_amount'\n",
      "'total_awarded_bounty_amount'\n",
      "'total_awarded_bounty_amount'\n",
      "'total_awarded_bounty_amount'\n",
      "'total_awarded_bounty_amount'\n",
      "'total_awarded_bounty_amount'\n",
      "'total_awarded_bounty_amount'\n",
      "'total_awarded_bounty_amount'\n",
      "'total_awarded_bounty_amount'\n",
      "'total_awarded_bounty_amount'\n",
      "'total_awarded_bounty_amount'\n",
      "'total_awarded_bounty_amount'\n",
      "'total_awarded_bounty_amount'\n",
      "'total_awarded_bounty_amount'\n",
      "'total_awarded_bounty_amount'\n",
      "'total_awarded_bounty_amount'\n",
      "'total_awarded_bounty_amount'\n",
      "'total_awarded_bounty_amount'\n",
      "'total_awarded_bounty_amount'\n",
      "'total_awarded_bounty_amount'\n",
      "'total_awarded_bounty_amount'\n",
      "'total_awarded_bounty_amount'\n",
      "'total_awarded_bounty_amount'\n",
      "'total_awarded_bounty_amount'\n",
      "'total_awarded_bounty_amount'\n",
      "'total_awarded_bounty_amount'\n",
      "'total_awarded_bounty_amount'\n",
      "'total_awarded_bounty_amount'\n",
      "'total_awarded_bounty_amount'\n",
      "'total_awarded_bounty_amount'\n",
      "'total_awarded_bounty_amount'\n",
      "'total_awarded_bounty_amount'\n",
      "'total_awarded_bounty_amount'\n",
      "'total_awarded_bounty_amount'\n",
      "'total_awarded_bounty_amount'\n",
      "'total_awarded_bounty_amount'\n",
      "'total_awarded_bounty_amount'\n",
      "'total_awarded_bounty_amount'\n",
      "'total_awarded_bounty_amount'\n",
      "'total_awarded_bounty_amount'\n",
      "'total_awarded_bounty_amount'\n",
      "'total_awarded_bounty_amount'\n",
      "'total_awarded_bounty_amount'\n",
      "'total_awarded_bounty_amount'\n",
      "'total_awarded_bounty_amount'\n",
      "'total_awarded_bounty_amount'\n",
      "'total_awarded_bounty_amount'\n",
      "'total_awarded_bounty_amount'\n",
      "'total_awarded_bounty_amount'\n",
      "'total_awarded_bounty_amount'\n",
      "'total_awarded_bounty_amount'\n",
      "'total_awarded_bounty_amount'\n",
      "'total_awarded_bounty_amount'\n",
      "'total_awarded_bounty_amount'\n",
      "'total_awarded_bounty_amount'\n",
      "'total_awarded_bounty_amount'\n",
      "'total_awarded_bounty_amount'\n",
      "'total_awarded_bounty_amount'\n",
      "'total_awarded_bounty_amount'\n",
      "'total_awarded_bounty_amount'\n",
      "'total_awarded_bounty_amount'\n",
      "'total_awarded_bounty_amount'\n",
      "'total_awarded_bounty_amount'\n",
      "'total_awarded_bounty_amount'\n",
      "'total_awarded_bounty_amount'\n",
      "'total_awarded_bounty_amount'\n",
      "'total_awarded_bounty_amount'\n",
      "'total_awarded_bounty_amount'\n",
      "'total_awarded_bounty_amount'\n",
      "'total_awarded_bounty_amount'\n",
      "'total_awarded_bounty_amount'\n",
      "'total_awarded_bounty_amount'\n",
      "'total_awarded_bounty_amount'\n",
      "'total_awarded_bounty_amount'\n",
      "'total_awarded_bounty_amount'\n",
      "'total_awarded_bounty_amount'\n",
      "'total_awarded_bounty_amount'\n",
      "'total_awarded_bounty_amount'\n",
      "'total_awarded_bounty_amount'\n",
      "'total_awarded_bounty_amount'\n",
      "'total_awarded_bounty_amount'\n",
      "'total_awarded_bounty_amount'\n",
      "'total_awarded_bounty_amount'\n",
      "'total_awarded_bounty_amount'\n",
      "'total_awarded_bounty_amount'\n",
      "'total_awarded_bounty_amount'\n",
      "'total_awarded_bounty_amount'\n",
      "'total_awarded_bounty_amount'\n",
      "'total_awarded_bounty_amount'\n",
      "'total_awarded_bounty_amount'\n",
      "'total_awarded_bounty_amount'\n",
      "'total_awarded_bounty_amount'\n",
      "'total_awarded_bounty_amount'\n",
      "'total_awarded_bounty_amount'\n",
      "'total_awarded_bounty_amount'\n",
      "'total_awarded_bounty_amount'\n",
      "'total_awarded_bounty_amount'\n",
      "'total_awarded_bounty_amount'\n",
      "'reporter'\n",
      "'total_awarded_bounty_amount'\n"
     ]
    }
   ],
   "source": [
    "reporters=dict()\n",
    "reporters_sum=dict()\n",
    "for team in ibb_list:\n",
    "    for report in reports_team[team]:\n",
    "\n",
    "        try:\n",
    "            if report['reporter']['id'] in reporters:\n",
    "                reporters_sum[report['reporter']['id']]+=float(report['total_awarded_bounty_amount'])\n",
    "                reporters[report['reporter']['id']]+=1\n",
    "            else:\n",
    "                reporters_sum[report['reporter']['id']]=float(report['total_awarded_bounty_amount'])\n",
    "                reporters[report['reporter']['id']]=1\n",
    "        except Exception as e:\n",
    "            print(str(e))"
   ]
  },
  {
   "cell_type": "code",
   "execution_count": 55,
   "metadata": {},
   "outputs": [
    {
     "name": "stdout",
     "output_type": "stream",
     "text": [
      "[17500.0, 500.0, 15500.0, 500.0, 2500.0, 4000.0, 2500.0, 1500.0, 31000.0, 3000.0, 1600.0, 7000.0, 14000.0, 2000.0, 2000.0, 3000.0, 10000.0, 2000.0, 2500.0, 500.0, 8500.0, 500.0, 2500.0, 500.0, 4500.0, 2000.0, 1000.0, 1500.0, 1500.0, 2000.0, 500.0, 500.0, 3000.0, 4500.0, 4500.0, 1000.0, 500.0, 2000.0, 8000.0, 1000.0, 5000.0, 2500.0, 19000.0, 9500.0, 2500.0, 1500.0, 500.0, 1500.0, 500.0, 500.0, 500.0, 12500.0, 23500.0, 1000.0, 3500.0, 2500.0, 500.0, 1000.0, 1000.0, 1000.0, 1500.0, 1500.0, 500.0, 1000.0, 500.0, 1000.0, 3000.0, 3000.0, 5000.0, 61500.0, 5000.0, 2000.0, 7000.0, 9000.0, 3000.0, 8000.0, 37500.0, 1000.0, 3000.0, 6000.0, 10000.0, 10000.0, 2000.0, 6000.0, 1000.0, 500.0, 25000.0, 3000.0, 2500.0, 6500.0, 500.0, 500.0, 3000.0, 3000.0, 15000.0, 5000.0, 3000.0, 7500.0, 20000.0, 5000.0, 6000.0, 3000.0, 1000.0, 1500.0, 1000.0, 6000.0, 3000.0, 3500.0, 2500.0, 2500.0, 500.0, 1500.0, 1500.0, 500.0]\n",
      "None\n",
      "[61500.0, 37500.0, 31000.0, 25000.0, 23500.0, 20000.0, 19000.0, 17500.0, 15500.0, 15000.0, 14000.0, 12500.0, 10000.0, 10000.0, 10000.0, 9500.0, 9000.0, 8500.0, 8000.0, 8000.0, 7500.0, 7000.0, 7000.0, 6500.0, 6000.0, 6000.0, 6000.0, 6000.0, 5000.0, 5000.0, 5000.0, 5000.0, 5000.0, 4500.0, 4500.0, 4500.0, 4000.0, 3500.0, 3500.0, 3000.0, 3000.0, 3000.0, 3000.0, 3000.0, 3000.0, 3000.0, 3000.0, 3000.0, 3000.0, 3000.0, 3000.0, 3000.0, 2500.0, 2500.0, 2500.0, 2500.0, 2500.0, 2500.0, 2500.0, 2500.0, 2500.0, 2500.0, 2000.0, 2000.0, 2000.0, 2000.0, 2000.0, 2000.0, 2000.0, 2000.0, 1600.0, 1500.0, 1500.0, 1500.0, 1500.0, 1500.0, 1500.0, 1500.0, 1500.0, 1500.0, 1500.0, 1000.0, 1000.0, 1000.0, 1000.0, 1000.0, 1000.0, 1000.0, 1000.0, 1000.0, 1000.0, 1000.0, 1000.0, 1000.0, 500.0, 500.0, 500.0, 500.0, 500.0, 500.0, 500.0, 500.0, 500.0, 500.0, 500.0, 500.0, 500.0, 500.0, 500.0, 500.0, 500.0, 500.0, 500.0, 500.0]\n"
     ]
    },
    {
     "data": {
      "text/plain": [
       "[<matplotlib.lines.Line2D at 0x7f2f30233c50>]"
      ]
     },
     "execution_count": 55,
     "metadata": {},
     "output_type": "execute_result"
    },
    {
     "data": {
      "image/png": "[encoded data removed]",
      "text/plain": [
       "<Figure size 432x288 with 1 Axes>"
      ]
     },
     "metadata": {
      "needs_background": "light"
     },
     "output_type": "display_data"
    }
   ],
   "source": [
    "dictlist=[]\n",
    "for key, value in reporters_sum.items():\n",
    "    temp = float(value)\n",
    "    dictlist.append(temp)\n",
    "\n",
    "print(dictlist)\n",
    "print(dictlist.sort(reverse=True))\n",
    "print(dictlist)\n",
    "plt.plot(dictlist)"
   ]
  },
  {
   "cell_type": "code",
   "execution_count": 56,
   "metadata": {},
   "outputs": [
    {
     "name": "stdout",
     "output_type": "stream",
     "text": [
      "[31.0, 1.0, 24.0, 1.0, 5.0, 6.0, 4.0, 3.0, 40.0, 4.0, 3.0, 10.0, 23.0, 3.0, 4.0, 6.0, 20.0, 4.0, 4.0, 1.0, 10.0, 1.0, 3.0, 1.0, 4.0, 2.0, 2.0, 2.0, 2.0, 2.0, 1.0, 1.0, 3.0, 7.0, 6.0, 2.0, 1.0, 2.0, 2.0, 1.0, 4.0, 4.0, 21.0, 3.0, 1.0, 1.0, 1.0, 2.0, 1.0, 1.0, 1.0, 15.0, 11.0, 1.0, 6.0, 2.0, 1.0, 2.0, 2.0, 1.0, 1.0, 1.0, 1.0, 1.0, 1.0, 1.0, 2.0, 1.0, 1.0, 22.0, 2.0, 1.0, 2.0, 3.0, 1.0, 4.0, 4.0, 1.0, 1.0, 3.0, 1.0, 1.0, 1.0, 2.0, 1.0, 1.0, 1.0, 1.0, 1.0, 3.0, 1.0, 1.0, 1.0, 1.0, 2.0, 1.0, 1.0, 1.0, 1.0, 1.0, 1.0, 1.0, 2.0, 1.0, 1.0, 8.0, 2.0, 2.0, 1.0, 1.0, 1.0, 1.0, 1.0, 1.0]\n",
      "None\n",
      "[40.0, 31.0, 24.0, 23.0, 22.0, 21.0, 20.0, 15.0, 11.0, 10.0, 10.0, 8.0, 7.0, 6.0, 6.0, 6.0, 6.0, 5.0, 4.0, 4.0, 4.0, 4.0, 4.0, 4.0, 4.0, 4.0, 4.0, 4.0, 3.0, 3.0, 3.0, 3.0, 3.0, 3.0, 3.0, 3.0, 3.0, 2.0, 2.0, 2.0, 2.0, 2.0, 2.0, 2.0, 2.0, 2.0, 2.0, 2.0, 2.0, 2.0, 2.0, 2.0, 2.0, 2.0, 2.0, 2.0, 2.0, 1.0, 1.0, 1.0, 1.0, 1.0, 1.0, 1.0, 1.0, 1.0, 1.0, 1.0, 1.0, 1.0, 1.0, 1.0, 1.0, 1.0, 1.0, 1.0, 1.0, 1.0, 1.0, 1.0, 1.0, 1.0, 1.0, 1.0, 1.0, 1.0, 1.0, 1.0, 1.0, 1.0, 1.0, 1.0, 1.0, 1.0, 1.0, 1.0, 1.0, 1.0, 1.0, 1.0, 1.0, 1.0, 1.0, 1.0, 1.0, 1.0, 1.0, 1.0, 1.0, 1.0, 1.0, 1.0, 1.0, 1.0]\n"
     ]
    },
    {
     "data": {
      "text/plain": [
       "[<matplotlib.lines.Line2D at 0x7f2f30193eb8>]"
      ]
     },
     "execution_count": 56,
     "metadata": {},
     "output_type": "execute_result"
    },
    {
     "data": {
      "image/png": "[encoded data removed]",
      "text/plain": [
       "<Figure size 432x288 with 1 Axes>"
      ]
     },
     "metadata": {
      "needs_background": "light"
     },
     "output_type": "display_data"
    }
   ],
   "source": [
    "dictlist=[]\n",
    "for key, value in reporters.items():\n",
    "    temp = float(value)\n",
    "    dictlist.append(temp)\n",
    "\n",
    "print(dictlist)\n",
    "print(dictlist.sort(reverse=True))\n",
    "print(dictlist)\n",
    "plt.plot(dictlist)"
   ]
  },
  {
   "cell_type": "code",
   "execution_count": 41,
   "metadata": {},
   "outputs": [
    {
     "name": "stdout",
     "output_type": "stream",
     "text": [
      "10003206.75\n"
     ]
    }
   ],
   "source": [
    "sumall=0\n",
    "numall=0\n",
    "for team in reports_team:\n",
    "    for report in reports_team[team]:\n",
    "        try:\n",
    "            sumall+=float(report['total_awarded_bounty_amount'])\n",
    "        except:\n",
    "            continue\n",
    "print(sumall)"
   ]
  }
 ],
 "metadata": {
  "kernelspec": {
   "display_name": "Python 3",
   "language": "python",
   "name": "python3"
  },
  "language_info": {
   "codemirror_mode": {
    "name": "ipython",
    "version": 3
   },
   "file_extension": ".py",
   "mimetype": "text/x-python",
   "name": "python",
   "nbconvert_exporter": "python",
   "pygments_lexer": "ipython3",
   "version": "3.6.8"
  }
 },
 "nbformat": 4,
 "nbformat_minor": 4
}
