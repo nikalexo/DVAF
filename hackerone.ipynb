{
 "cells": [
  {
   "cell_type": "code",
   "execution_count": 16,
   "metadata": {},
   "outputs": [],
   "source": [
    "import json\n",
    "from datetime import datetime\n",
    "from dateutil import parser\n",
    "import matplotlib.pyplot as plt\n",
    "import numpy as np\n",
    "import paper_plots as carlosplt\n",
    "import operator\n",
    "from dateutil import parser\n",
    "import seaborn as sns\n",
    "from matplotlib.font_manager import FontProperties\n",
    "#import paper_plots as carlosplt"
   ]
  },
  {
   "cell_type": "code",
   "execution_count": 2,
   "metadata": {},
   "outputs": [],
   "source": [
    "with open(\"reports_team.json\", \"r\") as fp:\n",
    "    reports_team = json.load(fp)\n",
    "\n",
    "with open(\"sum_team.json\", \"r\") as fp:\n",
    "    sum_team = json.load(fp)\n",
    "\n",
    "ibb_list = ['ibb-php', 'ibb-python', 'ibb-data', 'ibb-flash', 'ibb-nginx', 'ibb-perl', 'internet', 'ibb-openssl', 'ibb-apache']"
   ]
  },
  {
   "cell_type": "code",
   "execution_count": 3,
   "metadata": {},
   "outputs": [
    {
     "name": "stdout",
     "output_type": "stream",
     "text": [
      "33\n",
      "################################################################################ \n",
      "Component:  ibb-php \n",
      "Total bounty number:  252 \n",
      "Disclosed Num : 236 \n",
      "Bounty Number with payment public:  236 \n",
      "Bounty Sum:  170500.0 \n",
      "Max Bounty:  4000.0 \n",
      "Average Bounty:  722.457627118644 \n",
      "\n",
      "################################################################################ \n",
      "Component:  ibb-python \n",
      "Total bounty number:  65 \n",
      "Disclosed Num : 58 \n",
      "Bounty Number with payment public:  58 \n",
      "Bounty Sum:  58000.0 \n",
      "Max Bounty:  9000.0 \n",
      "Average Bounty:  1000.0 \n",
      "\n",
      "################################################################################ \n",
      "Component:  ibb-data \n",
      "Total bounty number:  33 \n",
      "Disclosed Num : 18 \n",
      "Bounty Number with payment public:  18 \n",
      "Bounty Sum:  11000.0 \n",
      "Max Bounty:  1000.0 \n",
      "Average Bounty:  611.1111111111111 \n",
      "\n",
      "################################################################################ \n",
      "Component:  ibb-flash \n",
      "Total bounty number:  69 \n",
      "Disclosed Num : 50 \n",
      "Bounty Number with payment public:  50 \n",
      "Bounty Sum:  175000.0 \n",
      "Max Bounty:  10000.0 \n",
      "Average Bounty:  3500.0 \n",
      "\n",
      "################################################################################ \n",
      "Component:  ibb-nginx \n",
      "Total bounty number:  4 \n",
      "Disclosed Num : 2 \n",
      "Bounty Number with payment public:  2 \n",
      "Bounty Sum:  6000.0 \n",
      "Max Bounty:  3000.0 \n",
      "Average Bounty:  3000.0 \n",
      "\n",
      "################################################################################ \n",
      "Component:  ibb-perl \n",
      "Total bounty number:  12 \n",
      "Disclosed Num : 9 \n",
      "Bounty Number with payment public:  9 \n",
      "Bounty Sum:  7500.0 \n",
      "Max Bounty:  1500.0 \n",
      "Average Bounty:  833.3333333333334 \n",
      "\n",
      "################################################################################ \n",
      "Component:  internet \n",
      "Total bounty number:  89 \n",
      "Disclosed Num : 26 \n",
      "Bounty Number with payment public:  26 \n",
      "Bounty Sum:  122000.0 \n",
      "Max Bounty:  25000.0 \n",
      "Average Bounty:  4692.307692307692 \n",
      "\n",
      "################################################################################ \n",
      "Component:  ibb-openssl \n",
      "Total bounty number:  36 \n",
      "Disclosed Num : 29 \n",
      "Bounty Number with payment public:  29 \n",
      "Bounty Sum:  45500.0 \n",
      "Max Bounty:  15000.0 \n",
      "Average Bounty:  1568.9655172413793 \n",
      "\n",
      "################################################################################ \n",
      "Component:  ibb-apache \n",
      "Total bounty number:  9 \n",
      "Disclosed Num : 8 \n",
      "Bounty Number with payment public:  8 \n",
      "Bounty Sum:  5600.0 \n",
      "Max Bounty:  1500.0 \n",
      "Average Bounty:  700.0 \n",
      "\n",
      "569 601100.0 25000.0 1378.6697247706422 436\n"
     ]
    }
   ],
   "source": [
    "print(len(reports_team['ibb-data']))\n",
    "num_ibb=0\n",
    "num_all_ibb=0\n",
    "sum_ibb=0\n",
    "max_ibb=0\n",
    "av_ibb=0\n",
    "for pkg in ibb_list:\n",
    "    sumb=0\n",
    "    numb=0\n",
    "    maxb=0\n",
    "    num_all=0\n",
    "    for report in reports_team[pkg]:\n",
    "        num_all+=1\n",
    "        try:\n",
    "            bounty = float(report['total_awarded_bounty_amount'])\n",
    "            sumb+=bounty\n",
    "            if bounty>maxb:\n",
    "                maxb=bounty\n",
    "            numb+=1\n",
    "        except:\n",
    "            continue\n",
    "    print('#'*80,'\\nComponent: ', pkg, '\\nTotal bounty number: ', num_all, '\\nDisclosed Num :', numb,'\\nBounty Number with payment public: ', numb, '\\nBounty Sum: ', sumb, '\\nMax Bounty: ', maxb, '\\nAverage Bounty: ', sumb/numb,'\\n')\n",
    "    num_ibb+=numb\n",
    "    num_all_ibb+=num_all\n",
    "    sum_ibb+=sumb\n",
    "    if maxb>max_ibb:\n",
    "        max_ibb=maxb\n",
    "print(num_all_ibb, sum_ibb, max_ibb, sum_ibb/num_ibb, num_ibb)"
   ]
  },
  {
   "cell_type": "code",
   "execution_count": 4,
   "metadata": {},
   "outputs": [],
   "source": [
    "reporters=dict()\n",
    "reporters_sum=dict()\n",
    "for team in ibb_list:\n",
    "    for report in reports_team[team]:\n",
    "\n",
    "        try:\n",
    "            if report['reporter']['id'] in reporters:\n",
    "                reporters_sum[report['reporter']['id']]+=float(report['total_awarded_bounty_amount'])\n",
    "                reporters[report['reporter']['id']]+=1\n",
    "            else:\n",
    "                reporters_sum[report['reporter']['id']]=float(report['total_awarded_bounty_amount'])\n",
    "                reporters[report['reporter']['id']]=1\n",
    "        except Exception as e:\n",
    "            pass"
   ]
  },
  {
   "cell_type": "code",
   "execution_count": 5,
   "metadata": {},
   "outputs": [
    {
     "name": "stdout",
     "output_type": "stream",
     "text": [
      "[17500.0, 500.0, 15500.0, 500.0, 2500.0, 4000.0, 2500.0, 1500.0, 31000.0, 3000.0, 1600.0, 7000.0, 14000.0, 2000.0, 2000.0, 3000.0, 10000.0, 2000.0, 2500.0, 500.0, 8500.0, 500.0, 2500.0, 500.0, 4500.0, 2000.0, 1000.0, 1500.0, 1500.0, 2000.0, 500.0, 500.0, 3000.0, 4500.0, 4500.0, 1000.0, 500.0, 2000.0, 8000.0, 1000.0, 5000.0, 2500.0, 19000.0, 9500.0, 2500.0, 1500.0, 500.0, 1500.0, 500.0, 500.0, 500.0, 12500.0, 23500.0, 1000.0, 3500.0, 2500.0, 500.0, 1000.0, 1000.0, 1000.0, 1500.0, 1500.0, 500.0, 1000.0, 500.0, 1000.0, 3000.0, 3000.0, 5000.0, 61500.0, 5000.0, 2000.0, 7000.0, 9000.0, 3000.0, 8000.0, 37500.0, 1000.0, 3000.0, 6000.0, 10000.0, 10000.0, 2000.0, 6000.0, 1000.0, 500.0, 25000.0, 3000.0, 2500.0, 6500.0, 500.0, 500.0, 3000.0, 3000.0, 15000.0, 5000.0, 3000.0, 7500.0, 20000.0, 5000.0, 6000.0, 3000.0, 1000.0, 1500.0, 1000.0, 6000.0, 3000.0, 3500.0, 2500.0, 2500.0, 500.0, 1500.0, 1500.0, 500.0]\n",
      "None\n",
      "[61500.0, 37500.0, 31000.0, 25000.0, 23500.0, 20000.0, 19000.0, 17500.0, 15500.0, 15000.0, 14000.0, 12500.0, 10000.0, 10000.0, 10000.0, 9500.0, 9000.0, 8500.0, 8000.0, 8000.0, 7500.0, 7000.0, 7000.0, 6500.0, 6000.0, 6000.0, 6000.0, 6000.0, 5000.0, 5000.0, 5000.0, 5000.0, 5000.0, 4500.0, 4500.0, 4500.0, 4000.0, 3500.0, 3500.0, 3000.0, 3000.0, 3000.0, 3000.0, 3000.0, 3000.0, 3000.0, 3000.0, 3000.0, 3000.0, 3000.0, 3000.0, 3000.0, 2500.0, 2500.0, 2500.0, 2500.0, 2500.0, 2500.0, 2500.0, 2500.0, 2500.0, 2500.0, 2000.0, 2000.0, 2000.0, 2000.0, 2000.0, 2000.0, 2000.0, 2000.0, 1600.0, 1500.0, 1500.0, 1500.0, 1500.0, 1500.0, 1500.0, 1500.0, 1500.0, 1500.0, 1500.0, 1000.0, 1000.0, 1000.0, 1000.0, 1000.0, 1000.0, 1000.0, 1000.0, 1000.0, 1000.0, 1000.0, 1000.0, 1000.0, 500.0, 500.0, 500.0, 500.0, 500.0, 500.0, 500.0, 500.0, 500.0, 500.0, 500.0, 500.0, 500.0, 500.0, 500.0, 500.0, 500.0, 500.0, 500.0, 500.0]\n"
     ]
    },
    {
     "data": {
      "text/plain": [
       "[<matplotlib.lines.Line2D at 0x7f108d6e18d0>]"
      ]
     },
     "execution_count": 5,
     "metadata": {},
     "output_type": "execute_result"
    },
    {
     "data": {
      "image/png": "[encoded data removed]",
      "text/plain": [
       "<Figure size 432x288 with 1 Axes>"
      ]
     },
     "metadata": {
      "needs_background": "light"
     },
     "output_type": "display_data"
    }
   ],
   "source": [
    "dictlist=[]\n",
    "for key, value in reporters_sum.items():\n",
    "    temp = float(value)\n",
    "    dictlist.append(temp)\n",
    "\n",
    "print(dictlist)\n",
    "print(dictlist.sort(reverse=True))\n",
    "print(dictlist)\n",
    "plt.plot(dictlist)"
   ]
  },
  {
   "cell_type": "code",
   "execution_count": 6,
   "metadata": {},
   "outputs": [
    {
     "name": "stdout",
     "output_type": "stream",
     "text": [
      "[31.0, 1.0, 24.0, 1.0, 5.0, 6.0, 4.0, 3.0, 40.0, 4.0, 3.0, 10.0, 23.0, 3.0, 4.0, 6.0, 20.0, 4.0, 4.0, 1.0, 10.0, 1.0, 3.0, 1.0, 4.0, 2.0, 2.0, 2.0, 2.0, 2.0, 1.0, 1.0, 3.0, 7.0, 6.0, 2.0, 1.0, 2.0, 2.0, 1.0, 4.0, 4.0, 21.0, 3.0, 1.0, 1.0, 1.0, 2.0, 1.0, 1.0, 1.0, 15.0, 11.0, 1.0, 6.0, 2.0, 1.0, 2.0, 2.0, 1.0, 1.0, 1.0, 1.0, 1.0, 1.0, 1.0, 2.0, 1.0, 1.0, 22.0, 2.0, 1.0, 2.0, 3.0, 1.0, 4.0, 4.0, 1.0, 1.0, 3.0, 1.0, 1.0, 1.0, 2.0, 1.0, 1.0, 1.0, 1.0, 1.0, 3.0, 1.0, 1.0, 1.0, 1.0, 2.0, 1.0, 1.0, 1.0, 1.0, 1.0, 1.0, 1.0, 2.0, 1.0, 1.0, 8.0, 2.0, 2.0, 1.0, 1.0, 1.0, 1.0, 1.0, 1.0]\n",
      "None\n",
      "[40.0, 31.0, 24.0, 23.0, 22.0, 21.0, 20.0, 15.0, 11.0, 10.0, 10.0, 8.0, 7.0, 6.0, 6.0, 6.0, 6.0, 5.0, 4.0, 4.0, 4.0, 4.0, 4.0, 4.0, 4.0, 4.0, 4.0, 4.0, 3.0, 3.0, 3.0, 3.0, 3.0, 3.0, 3.0, 3.0, 3.0, 2.0, 2.0, 2.0, 2.0, 2.0, 2.0, 2.0, 2.0, 2.0, 2.0, 2.0, 2.0, 2.0, 2.0, 2.0, 2.0, 2.0, 2.0, 2.0, 2.0, 1.0, 1.0, 1.0, 1.0, 1.0, 1.0, 1.0, 1.0, 1.0, 1.0, 1.0, 1.0, 1.0, 1.0, 1.0, 1.0, 1.0, 1.0, 1.0, 1.0, 1.0, 1.0, 1.0, 1.0, 1.0, 1.0, 1.0, 1.0, 1.0, 1.0, 1.0, 1.0, 1.0, 1.0, 1.0, 1.0, 1.0, 1.0, 1.0, 1.0, 1.0, 1.0, 1.0, 1.0, 1.0, 1.0, 1.0, 1.0, 1.0, 1.0, 1.0, 1.0, 1.0, 1.0, 1.0, 1.0, 1.0]\n"
     ]
    },
    {
     "data": {
      "text/plain": [
       "[<matplotlib.lines.Line2D at 0x7f108653b6d8>]"
      ]
     },
     "execution_count": 6,
     "metadata": {},
     "output_type": "execute_result"
    },
    {
     "data": {
      "image/png": "[encoded data removed]",
      "text/plain": [
       "<Figure size 432x288 with 1 Axes>"
      ]
     },
     "metadata": {
      "needs_background": "light"
     },
     "output_type": "display_data"
    }
   ],
   "source": [
    "dictlist=[]\n",
    "for key, value in reporters.items():\n",
    "    temp = float(value)\n",
    "    dictlist.append(temp)\n",
    "\n",
    "print(dictlist)\n",
    "print(dictlist.sort(reverse=True))\n",
    "print(dictlist)\n",
    "plt.plot(dictlist)"
   ]
  },
  {
   "cell_type": "code",
   "execution_count": 7,
   "metadata": {},
   "outputs": [
    {
     "name": "stdout",
     "output_type": "stream",
     "text": [
      "10003206.75\n"
     ]
    }
   ],
   "source": [
    "sumall=0\n",
    "numall=0\n",
    "for team in reports_team:\n",
    "    for report in reports_team[team]:\n",
    "        try:\n",
    "            sumall+=float(report['total_awarded_bounty_amount'])\n",
    "        except:\n",
    "            continue\n",
    "print(sumall)"
   ]
  },
  {
   "cell_type": "code",
   "execution_count": 8,
   "metadata": {},
   "outputs": [
    {
     "name": "stdout",
     "output_type": "stream",
     "text": [
      "114\n",
      "114\n",
      "[(5808, 61500.0), (14510, 37500.0), (16820, 31000.0), (213790, 25000.0), (11177, 23500.0), (12686, 20000.0), (6615, 19000.0), (2423, 17500.0), (12276, 15500.0), (1622, 15000.0)]\n",
      "[5808, 14510, 16820, 213790, 11177, 12686, 6615, 2423, 12276, 1622, 3621, 2983, 6044, 2951, 2887, 2019, 13642, 2468, 33533, 2901, 1949, 74688, 7797, 5452, 2268, 3851, 7648, 97635, 20061, 35758, 49, 12076, 6350, 51951, 17646, 20683, 174117, 101146, 73606, 17153, 117661, 2004, 6780, 72499, 12819, 6296, 75, 2666, 13129, 8209]\n"
     ]
    }
   ],
   "source": [
    "print(len(reporters))\n",
    "print(len(reporters_sum))\n",
    "sorted_x = sorted(reporters_sum.items(), key=operator.itemgetter(1), reverse=True)\n",
    "print(sorted_x[:10])\n",
    "top_IBB=[]\n",
    "for i in sorted_x[:50]:\n",
    "    top_IBB.append(i[0])\n",
    "print(top_IBB)"
   ]
  },
  {
   "cell_type": "code",
   "execution_count": null,
   "metadata": {},
   "outputs": [],
   "source": []
  },
  {
   "cell_type": "code",
   "execution_count": 9,
   "metadata": {},
   "outputs": [],
   "source": [
    "years=5 #2014-2018\n",
    "ibb_rep2month = 12*years*[0]\n",
    "rest_rep2month = 12*years*[0]\n",
    "ibb_bounty2month = 12*years*[0]\n",
    "rest_bounty2month = 12*years*[0]\n",
    "\n",
    "for team in reports_team:\n",
    "    for report in reports_team[team]:\n",
    "        try:\n",
    "            date = parser.parse(report['latest_disclosable_activity_at'])\n",
    "            if report['reporter']['id'] in reporters:\n",
    "                if team in ibb_list:\n",
    "                    ibb_bounty2month[(date.year-2014)*12+date.month]+=float(report['total_awarded_bounty_amount'])\n",
    "                    ibb_rep2month[(date.year-2014)*12+date.month]+=1\n",
    "                else:\n",
    "                    rest_bounty2month[(date.year-2014)*12+date.month]+=float(report['total_awarded_bounty_amount'])\n",
    "                    rest_rep2month[(date.year-2014)*12+date.month]+=1\n",
    "        except Exception as e:\n",
    "            pass"
   ]
  },
  {
   "cell_type": "code",
   "execution_count": 10,
   "metadata": {},
   "outputs": [
    {
     "name": "stdout",
     "output_type": "stream",
     "text": [
      "[2, 0, 5, 2, 6, 1, 1, 5, 0, 2, 3, 4, 3, 1, 1, 8, 10, 1, 25, 0, 0, 0, 0, 0, 40, 11, 0, 11, 10, 37, 14, 17, 20, 59, 1, 0, 43, 0, 11, 0, 1, 20, 2, 5, 10, 3, 0, 1, 18, 2, 4, 0, 3, 2, 1, 0, 1, 3, 5, 0]\n"
     ]
    }
   ],
   "source": [
    "print(ibb_rep2month)"
   ]
  },
  {
   "cell_type": "code",
   "execution_count": 19,
   "metadata": {},
   "outputs": [
    {
     "data": {
      "text/plain": [
       "[]"
      ]
     },
     "execution_count": 19,
     "metadata": {},
     "output_type": "execute_result"
    },
    {
     "data": {
      "image/png": "[encoded data removed]",
      "text/plain": [
       "<Figure size 432x288 with 1 Axes>"
      ]
     },
     "metadata": {
      "needs_background": "light"
     },
     "output_type": "display_data"
    }
   ],
   "source": [
    "#carlosplt.pre_paper_plot(True)\n",
    "quartersx = []\n",
    "for i in range(14,14+years):\n",
    "    for j in range(1,5):\n",
    "        if j==1:\n",
    "            quartersx.append('Q' + str(j)+'\\''+str(i).zfill(2))\n",
    "        else:\n",
    "            quartersx.append(' ')\n",
    "\n",
    "ibb_rep2quart = []\n",
    "rest_rep2quart = []\n",
    "ibb_bounty2quart = []\n",
    "rest_bounty2quart = []\n",
    "\n",
    "quarter_num= len(quartersx)            \n",
    "for j in range(quarter_num):\n",
    "    temp1=sum(ibb_rep2month[3*j:3*(j+1)])\n",
    "    temp2=sum(ibb_bounty2month[3*j:3*(j+1)])\n",
    "    temp3=sum(rest_rep2month[3*j:3*(j+1)])\n",
    "    temp4=sum(rest_bounty2month[3*j:3*(j+1)])\n",
    "    \n",
    "    try:\n",
    "        temp_rep_ibb=temp1/(temp1+temp3)\n",
    "        temp_rep_rest=temp3/(temp1+temp3)\n",
    "    except ZeroDivisionError:\n",
    "        temp_rep_ibb=0\n",
    "        temp_rep_rest=0\n",
    "    try:\n",
    "        temp_bounty_ibb=temp2/(temp2+temp4)\n",
    "        temp_bounty_rest=temp4/(temp4+temp2)\n",
    "    except ZeroDivisionError:\n",
    "        temp_bounty_ibb=0\n",
    "        temp_bounty_rest=0\n",
    "    \n",
    "    ibb_rep2quart.append(temp_rep_ibb)\n",
    "    ibb_bounty2quart.append(temp_bounty_ibb)\n",
    "    rest_rep2quart.append(temp_rep_rest)\n",
    "    rest_bounty2quart.append(temp_bounty_rest)\n",
    "    \n",
    "n = len(ibb_rep2quart)\n",
    "x = range(len(ibb_rep2quart))\n",
    "width = 1/2\n",
    "pal = sns.color_palette(\"Paired\", 12)\n",
    "\n",
    "## Create bars plot\n",
    "h = plt.stackplot(x, [ibb_bounty2quart, rest_bounty2quart], colors=pal, alpha=0.9, labels = ['in IBB','rest'])\n",
    "plt.xticks(np.arange(0,n),quartersx, rotation=\"vertical\")\n",
    "labeltext='Bounty amount ratio'\n",
    "fontP = FontProperties()\n",
    "fontP.set_size('small')\n",
    "plt.legend(loc='upper left', handles = h[::-1], prop=fontP)\n",
    "\n",
    "plt.ylabel(labeltext)\n",
    "plt.xlabel('Quarter')\n",
    "plt.tight_layout()\n",
    "plt.plot()\n",
    "#carlosplt.post_paper_plot(True,True,True)\n"
   ]
  },
  {
   "cell_type": "code",
   "execution_count": 20,
   "metadata": {},
   "outputs": [
    {
     "data": {
      "image/png": "[encoded data removed]",
      "text/plain": [
       "<Figure size 432x288 with 1 Axes>"
      ]
     },
     "metadata": {
      "needs_background": "light"
     },
     "output_type": "display_data"
    }
   ],
   "source": [
    "## Create bars plot\n",
    "h = plt.stackplot(x, [ibb_rep2quart, rest_rep2quart], colors=pal, alpha=0.9, labels = ['in IBB','rest'])\n",
    "plt.xticks(np.arange(0,n),quartersx, rotation=\"vertical\")\n",
    "labeltext='Report number ratio'\n",
    "plt.ylabel(labeltext)\n",
    "plt.xlabel('Quarter')\n",
    "fontP = FontProperties()\n",
    "fontP.set_size('small')\n",
    "plt.legend(loc='upper left', handles = h[::-1], prop=fontP)\n",
    "plt.tight_layout()\n",
    "#carlosplt.post_paper_plot(True,True,True)"
   ]
  }
 ],
 "metadata": {
  "kernelspec": {
   "display_name": "Python 3",
   "language": "python",
   "name": "python3"
  },
  "language_info": {
   "codemirror_mode": {
    "name": "ipython",
    "version": 3
   },
   "file_extension": ".py",
   "mimetype": "text/x-python",
   "name": "python",
   "nbconvert_exporter": "python",
   "pygments_lexer": "ipython3",
   "version": "3.6.8"
  }
 },
 "nbformat": 4,
 "nbformat_minor": 4
}
